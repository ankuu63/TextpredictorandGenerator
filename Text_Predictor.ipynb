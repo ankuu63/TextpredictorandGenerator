{
  "cells": [
    {
      "cell_type": "markdown",
      "metadata": {
        "id": "view-in-github",
        "colab_type": "text"
      },
      "source": [
        "<a href=\"https://colab.research.google.com/github/ankuu63/TextpredictorandGenerator/blob/main/Text_Predictor.ipynb\" target=\"_parent\"><img src=\"https://colab.research.google.com/assets/colab-badge.svg\" alt=\"Open In Colab\"/></a>"
      ]
    },
    {
      "cell_type": "markdown",
      "source": [],
      "metadata": {
        "id": "tvWnVoD4lIaz"
      }
    },
    {
      "cell_type": "markdown",
      "source": [
        "**Text genrator using LSTM**\n"
      ],
      "metadata": {
        "id": "_uSn6e9plMD4"
      }
    },
    {
      "cell_type": "markdown",
      "source": [
        "1. Dataset from kaggle\n",
        "2. Downloading with help of datasets\n",
        "3. using kaggle_datset_link, username , kagle apitoken_key"
      ],
      "metadata": {
        "id": "scGszfw6lhZ9"
      }
    },
    {
      "cell_type": "code",
      "source": [
        "! pip install opendatasets"
      ],
      "metadata": {
        "colab": {
          "base_uri": "https://localhost:8080/"
        },
        "id": "DSqVKQAwlk6I",
        "outputId": "b84c1ea5-72da-4b8b-d9fb-927011d9348a"
      },
      "execution_count": 2,
      "outputs": [
        {
          "output_type": "stream",
          "name": "stdout",
          "text": [
            "Requirement already satisfied: opendatasets in /usr/local/lib/python3.11/dist-packages (0.1.22)\n",
            "Requirement already satisfied: tqdm in /usr/local/lib/python3.11/dist-packages (from opendatasets) (4.67.1)\n",
            "Requirement already satisfied: kaggle in /usr/local/lib/python3.11/dist-packages (from opendatasets) (1.7.4.5)\n",
            "Requirement already satisfied: click in /usr/local/lib/python3.11/dist-packages (from opendatasets) (8.2.1)\n",
            "Requirement already satisfied: bleach in /usr/local/lib/python3.11/dist-packages (from kaggle->opendatasets) (6.2.0)\n",
            "Requirement already satisfied: certifi>=14.05.14 in /usr/local/lib/python3.11/dist-packages (from kaggle->opendatasets) (2025.6.15)\n",
            "Requirement already satisfied: charset-normalizer in /usr/local/lib/python3.11/dist-packages (from kaggle->opendatasets) (3.4.2)\n",
            "Requirement already satisfied: idna in /usr/local/lib/python3.11/dist-packages (from kaggle->opendatasets) (3.10)\n",
            "Requirement already satisfied: protobuf in /usr/local/lib/python3.11/dist-packages (from kaggle->opendatasets) (5.29.5)\n",
            "Requirement already satisfied: python-dateutil>=2.5.3 in /usr/local/lib/python3.11/dist-packages (from kaggle->opendatasets) (2.9.0.post0)\n",
            "Requirement already satisfied: python-slugify in /usr/local/lib/python3.11/dist-packages (from kaggle->opendatasets) (8.0.4)\n",
            "Requirement already satisfied: requests in /usr/local/lib/python3.11/dist-packages (from kaggle->opendatasets) (2.32.3)\n",
            "Requirement already satisfied: setuptools>=21.0.0 in /usr/local/lib/python3.11/dist-packages (from kaggle->opendatasets) (75.2.0)\n",
            "Requirement already satisfied: six>=1.10 in /usr/local/lib/python3.11/dist-packages (from kaggle->opendatasets) (1.17.0)\n",
            "Requirement already satisfied: text-unidecode in /usr/local/lib/python3.11/dist-packages (from kaggle->opendatasets) (1.3)\n",
            "Requirement already satisfied: urllib3>=1.15.1 in /usr/local/lib/python3.11/dist-packages (from kaggle->opendatasets) (2.4.0)\n",
            "Requirement already satisfied: webencodings in /usr/local/lib/python3.11/dist-packages (from kaggle->opendatasets) (0.5.1)\n"
          ]
        }
      ]
    },
    {
      "cell_type": "markdown",
      "source": [],
      "metadata": {
        "id": "kD904rxeozoL"
      }
    },
    {
      "cell_type": "code",
      "source": [
        "import opendatasets as od\n",
        "od.download(\"https://www.kaggle.com/datasets/ashishpandey2062/next-word-predictor-text-generator-dataset\")\n"
      ],
      "metadata": {
        "colab": {
          "base_uri": "https://localhost:8080/"
        },
        "id": "P4KWy8J2ntQ_",
        "outputId": "d36ae33b-9ead-49c3-b346-fa2b3649932b"
      },
      "execution_count": 3,
      "outputs": [
        {
          "output_type": "stream",
          "name": "stdout",
          "text": [
            "Skipping, found downloaded files in \"./next-word-predictor-text-generator-dataset\" (use force=True to force download)\n"
          ]
        }
      ]
    },
    {
      "cell_type": "markdown",
      "source": [
        "Reading dataset"
      ],
      "metadata": {
        "id": "INE9raEfo5jR"
      }
    },
    {
      "cell_type": "code",
      "source": [
        "with open(\"/content/next-word-predictor-text-generator-dataset/next_word_predictor.txt\", \"r\", encoding=\"utf-8\") as file:\n",
        "    data = file.read()"
      ],
      "metadata": {
        "id": "VflS22m5pMt_"
      },
      "execution_count": 4,
      "outputs": []
    },
    {
      "cell_type": "markdown",
      "source": [
        "Data cleaning of extra things like #@$%^&* type symbols and punctuation\n",
        "using **Separate Punctuation**  function"
      ],
      "metadata": {
        "id": "T1sRpkneqzuP"
      }
    },
    {
      "cell_type": "code",
      "source": [
        "def separate_punc(doc_text):\n",
        "\n",
        "    return [token.lower() for token in doc_text.split(\" \") if token not in '\\n\\n \\n\\n\\n!\"-#$%&()--.*+,-/:;<=>?@[\\\\]^_`{|}~\\t\\n ']"
      ],
      "metadata": {
        "id": "Ab4Q5Sr3rdbZ"
      },
      "execution_count": 5,
      "outputs": []
    },
    {
      "cell_type": "code",
      "source": [
        "data= separate_punc(data)\n",
        "df= \" \".join(data)\n"
      ],
      "metadata": {
        "id": "RMc4J-lNrQCJ"
      },
      "execution_count": 6,
      "outputs": []
    },
    {
      "cell_type": "markdown",
      "source": [
        "*_**Importing libraries**_*"
      ],
      "metadata": {
        "id": "cxzhJQFar5QM"
      }
    },
    {
      "cell_type": "code",
      "source": [
        "import tensorflow as tensorflow\n",
        "from tensorflow.keras.preprocessing.text import Tokenizer\n",
        "\n",
        "from tensorflow.keras.preprocessing.sequence import pad_sequences\n",
        "from tensorflow.keras.utils import to_categorical\n",
        "from keras.models import Sequential\n",
        "from keras.layers import Embedding, LSTM, Dense ,  Dropout, BatchNormalization\n",
        "import numpy as ny\n",
        "from keras.regularizers import l2\n",
        "import time\n",
        "import warnings\n",
        "\n",
        "# Ignore all warnings\n",
        "warnings.filterwarnings(\"ignore\")\n",
        "\n"
      ],
      "metadata": {
        "id": "BLdAOtJ3sGop"
      },
      "execution_count": 7,
      "outputs": []
    },
    {
      "cell_type": "markdown",
      "source": [
        "Tokenization of datasets to form vocab **Dictionary**\n"
      ],
      "metadata": {
        "id": "PhqcyUTjtXRk"
      }
    },
    {
      "cell_type": "code",
      "source": [
        "#tokenizer as object for Teokenizer class\n",
        "tokenizer= Tokenizer(num_words=None,char_level=False)\n",
        "tokenizer.fit_on_texts([df])\n",
        "\n",
        "#tokens for unique words in df.\n",
        "vocab= tokenizer.word_index\n",
        "print(vocab)"
      ],
      "metadata": {
        "colab": {
          "base_uri": "https://localhost:8080/"
        },
        "id": "k2XzBf3ItbyI",
        "outputId": "05a9a9a9-61b8-4c2f-c6fa-61ae6a02fff9"
      },
      "execution_count": 8,
      "outputs": [
        {
          "output_type": "stream",
          "name": "stdout",
          "text": [
            "{'the': 1, 'and': 2, 'a': 3, 'of': 4, 'to': 5, 'i': 6, 'you': 7, 'in': 8, 'is': 9, 'monica': 10, 'it': 11, 'with': 12, 'ross': 13, 'that': 14, 'rachel': 15, 'for': 16, 'chandler': 17, 'this': 18, 'on': 19, 'joey': 20, 'was': 21, 'oh': 22, 'phoebe': 23, 'are': 24, 'all': 25, 'as': 26, 'what': 27, 'be': 28, 'like': 29, 'no': 30, \"it's\": 31, \"i'm\": 32, 'her': 33, 'they': 34, 'just': 35, 'from': 36, 'okay': 37, 'not': 38, 'so': 39, 'my': 40, 'have': 41, 'me': 42, 'where': 43, 'know': 44, 'she': 45, 'we': 46, 'out': 47, 'well': 48, 'their': 49, 'can': 50, 'at': 51, 'he': 52, 'yeah': 53, 'your': 54, 'about': 55, 'but': 56, 'its': 57, 'up': 58, \"don't\": 59, 'text': 60, 'scene': 61, 'by': 62, 'do': 63, 'an': 64, 'or': 65, 'were': 66, 'there': 67, 'if': 68, 'uh': 69, 'look': 70, 'life': 71, 'through': 72, 'into': 73, 'him': 74, 'his': 75, \"you're\": 76, 'hey': 77, 'how': 78, 'right': 79, 'think': 80, 'time': 81, 'now': 82, 'paul': 83, 'people': 84, 'had': 85, 'world': 86, 'who': 87, \"that's\": 88, 'here': 89, 'carol': 90, \"y'know\": 91, 'see': 92, 'coffee': 93, 'ancient': 94, 'one': 95, 'got': 96, 'gonna': 97, 'some': 98, 'vibrant': 99, 'has': 100, 'guy': 101, 'get': 102, 'while': 103, 'mean': 104, 'could': 105, 'over': 106, 'go': 107, 'other': 108, 'land': 109, 'plain': 110, 'really': 111, 'way': 112, 'god': 113, 'guys': 114, 'air': 115, 'back': 116, 'down': 117, 'these': 118, 'used': 119, 'more': 120, 'good': 121, 'characters': 122, 'sorry': 123, 'barry': 124, 'night': 125, 'thing': 126, 'hi': 127, 'alan': 128, 'place': 129, 'new': 130, 'would': 131, 'also': 132, 'them': 133, 'when': 134, 'such': 135, 'phone': 136, 'little': 137, 'going': 138, 'only': 139, 'than': 140, 'stories': 141, \"there's\": 142, 'want': 143, 'um': 144, 'history': 145, 'those': 146, 'headline': 147, 'great': 148, 'then': 149, 'off': 150, 'everyone': 151, 'use': 152, 'change': 153, \"can't\": 154, 'sun': 155, 'unique': 156, 'will': 157, 'any': 158, 'been': 159, 'first': 160, 'feel': 161, \"he's\": 162, 'alright': 163, 'love': 164, 'why': 165, \"we're\": 166, 'cut': 167, 'geller': 168, 'last': 169, 'still': 170, 'potential': 171, 'concerns': 172, 'never': 173, \"didn't\": 174, 'starts': 175, 'did': 176, 'something': 177, 'word': 178, 'heart': 179, 'take': 180, 'book': 181, 'come': 182, 'character': 183, 'again': 184, 'room': 185, 'does': 186, 'encoding': 187, 'fine': 188, 'yes': 189, 'around': 190, 'even': 191, 'rich': 192, 'home': 193, 'beauty': 194, 'which': 195, 'echoes': 196, 'tell': 197, 'doing': 198, 'thank': 199, 'wait': 200, 'wanna': 201, 'big': 202, 'our': 203, 'technology': 204, 'need': 205, 'please': 206, 'work': 207, 'remember': 208, 'getting': 209, \"i'll\": 210, 'give': 211, 'enters': 212, 'much': 213, 'susan': 214, 'sky': 215, 'bustling': 216, 'known': 217, 'natural': 218, 'each': 219, 'spirit': 220, 'future': 221, 'before': 222, 'too': 223, 'reading': 224, \"they're\": 225, 'city': 226, 'desert': 227, 'traditional': 228, 'deep': 229, 'many': 230, 'across': 231, 'left': 232, 'data': 233, 'years': 234, 'using': 235, 'am': 236, 'us': 237, 'story': 238, \"i've\": 239, \"c'mon\": 240, 'should': 241, \"rachel's\": 242, 'filled': 243, 'day': 244, 'energy': 245, 'against': 246, 'amazon': 247, 'past': 248, 'without': 249, 'things': 250, 'ever': 251, 'maybe': 252, 'door': 253, 'man': 254, 'thanks': 255, 'say': 256, 'lizzie': 257, 'hidden': 258, 'woman': 259, 'high': 260, 'human': 261, 'looking': 262, 'social': 263, 'files': 264, 'looks': 265, \"isn't\": 266, 'file': 267, 'leave': 268, 'modern': 269, 'central': 270, 'gotta': 271, 'kinda': 272, 'la': 273, \"what's\": 274, 'live': 275, 'village': 276, 'next': 277, 'streets': 278, 'stand': 279, 'colorful': 280, 'creating': 281, 'every': 282, \"'\": 283, 'lost': 284, 'tech': 285, 'having': 286, 'make': 287, 'tapestry': 288, 'long': 289, 'mark': 290, \"i'd\": 291, 'takes': 292, 'always': 293, 'actually': 294, 'perk': 295, 'everybody': 296, 'ooh': 297, 'said': 298, \"she's\": 299, 'talking': 300, 'joanne': 301, 'believe': 302, 'music': 303, 'local': 304, 'found': 305, 'cultural': 306, 'symphony': 307, 'nestled': 308, 'sand': 309, 'knowledge': 310, 'snow': 311, 'peaks': 312, 'most': 313, 'amidst': 314, 'captivating': 315, 'date': 316, 'another': 317, 'ai': 318, 'real': 319, 'control': 320, 'let': 321, 'today': 322, 'start': 323, 'stop': 324, 'hello': 325, 'codes': 326, 'part': 327, 'went': 328, 'hand': 329, 'listen': 330, 'pheebs': 331, 'mrs': 332, 'huh': 333, 'kid': 334, 'pizza': 335, 'old': 336, 'vast': 337, 'glow': 338, 'making': 339, 'offering': 340, 'diverse': 341, 'seeking': 342, 'unfolded': 343, 'sahara': 344, 'told': 345, 'traditions': 346, 'breathtaking': 347, 'rugged': 348, 'culture': 349, 'growing': 350, 'however': 351, 'happy': 352, 'together': 353, 'sarah': 354, 'might': 355, 'opens': 356, 'anyway': 357, 'tv': 358, 'tonight': 359, 'window': 360, 'job': 361, 'boy': 362, 'parents': 363, 'mine': 364, \"let's\": 365, 'receptionist': 366, 'woven': 367, 'laughter': 368, 'hear': 369, 'find': 370, 'waiting': 371, 'beyond': 372, 'rnn': 373, 'model': 374, 'predict': 375, 'sounds': 376, 'aroma': 377, 'watching': 378, 'between': 379, 'generations': 380, 'wildlife': 381, 'call': 382, 'under': 383, 'cultures': 384, 'realm': 385, 'yet': 386, 'allowing': 387, 'generate': 388, 'descriptions': 389, 'villages': 390, 'testament': 391, 'nature': 392, 'landscapes': 393, 'senses': 394, 'dataset': 395, 'significant': 396, 'individuals': 397, 'whole': 398, 'hate': 399, 'development': 400, 'face': 401, 'open': 402, 'offer': 403, 'put': 404, 'after': 405, 'ring': 406, 'rather': 407, 'very': 408, 'david': 409, 'voice': 410, 'alone': 411, 'nothing': 412, 'drink': 413, 'binary': 414, \"'cause\": 415, 'two': 416, 'sits': 417, 'trying': 418, 'goes': 419, 'smoke': 420, 'nepal': 421, 'clear': 422, 'leaves': 423, 'sound': 424, 'stars': 425, 'towering': 426, 'centuries': 427, 'provided': 428, 'lush': 429, 'lives': 430, 'read': 431, 'landscape': 432, 'elements': 433, 'knew': 434, 'secrets': 435, 'silence': 436, 'creatures': 437, 'power': 438, 'heritage': 439, 'rainforest': 440, 'green': 441, 'majestic': 442, 'spiritual': 443, 'both': 444, 'sentences': 445, 'capped': 446, 'valleys': 447, 'festivals': 448, 'set': 449, 'made': 450, 'experience': 451, 'magic': 452, 'once': 453, 'journey': 454, 'ice': 455, 'may': 456, 'whether': 457, 'cancer': 458, 'innovation': 459, 'computers': 460, 'wrong': 461, 'different': 462, 'help': 463, 'thought': 464, 'languages': 465, 'readers': 466, 'girl': 467, 'end': 468, '1': 469, 'morning': 470, 'anything': 471, '8': 472, 'nice': 473, 'lapse': 474, 'lot': 475, 'dollars': 476, 'apartment': 477, 'shoe': 478, \"who's\": 479, 'talk': 480, 'fun': 481, 'five': 482, 'wow': 483, \"you've\": 484, 'ew': 485, 'robbie': 486, 'thumb': 487, 'paula': 488, 'forever': 489, 'germany': 490, 'trees': 491, 'others': 492, 'taking': 493, 'playing': 494, 'adorned': 495, 'scent': 496, 'books': 497, 'outside': 498, 'adventure': 499, 'street': 500, 'offered': 501, 'sit': 502, 'share': 503, 'family': 504, 'forests': 505, 'dunes': 506, 'environment': 507, 'created': 508, 'endless': 509, 'species': 510, 'remote': 511, 'including': 512, 'challenges': 513, 'lights': 514, 'ruins': 515, 'lived': 516, 'language': 517, 'climate': 518, 'diversity': 519, 'being': 520, 'warmth': 521, 'beaches': 522, 'nation': 523, 'researchers': 524, 'dr': 525, 'media': 526, 'risk': 527, 'remains': 528, 'news': 529, 'quantum': 530, 'computer': 531, 'information': 532, 'code': 533, 'weapons': 534, 'hands': 535, 'young': 536, 'working': 537, 'libraries': 538, 'spain': 539, 'z': 540, 'beans': 541, 'simple': 542, 'sometimes': 543, 'leaving': 544, \"haven't\": 545, 'figure': 546, 'markup': 547, 'unicode': 548, 'iso': 549, 'guess': 550, 'gets': 551, 'sex': 552, 'turns': 553, 'wish': 554, 'mr': 555, \"monica's\": 556, 'hair': 557, 'walks': 558, 'probably': 559, \"doesn't\": 560, 'break': 561, \"carol's\": 562, 'entering': 563, 'frannie': 564, 'thousand': 565, 'credits': 566, 'marsha': 567, 'already': 568, 'friends': 569, 'meet': 570, 'cigarette': 571, 'hockey': 572, 'kiki': 573, 'elara': 574, 'sitting': 575, 'park': 576, 'atmosphere': 577, 'castle': 578, 'within': 579, 'access': 580, 'far': 581, 'eye': 582, 'exploration': 583, 'windows': 584, 'warm': 585, 'corner': 586, 'illuminated': 587, 'rolling': 588, 'renowned': 589, 'glimpse': 590, 'enchanting': 591, 'cozy': 592, 'travelers': 593, 'tribes': 594, 'teeming': 595, 'markets': 596, 'biodiversity': 597, 'wonders': 598, 'dense': 599, 'living': 600, 'elusive': 601, 'mountains': 602, 'wind': 603, 'intricate': 604, 'often': 605, 'resilience': 606, 'celebrated': 607, 'beneath': 608, 'vivid': 609, 'islands': 610, 'machu': 611, 'picchu': 612, 'temples': 613, 'visitors': 614, 'bhutan': 615, 'else': 616, '000': 617, 'upon': 618, 'several': 619, 'complex': 620, 'discovery': 621, 'lead': 622, 'crime': 623, 'increased': 624, 'hold': 625, 'seen': 626, 'raises': 627, 'industry': 628, 'engaging': 629, '5g': 630, 'literature': 631, 'dream': 632, 'explores': 633, 'kill': 634, 'standing': 635, 'must': 636, 'hundred': 637, 'seven': 638, 'conversation': 639, 'shop': 640, 'eyes': 641, 'welcome': 642, 'try': 643, 'enough': 644, 'unfolds': 645, 'bring': 646, 'line': 647, 'ascii': 648, 'utf': 649, 'better': 650, 'someone': 651, 'stuff': 652, 'hope': 653, 'lesbian': 654, 'mom': 655, 'wedding': 656, 'sure': 657, 'four': 658, \"wouldn't\": 659, 'women': 660, 'saying': 661, 'stay': 662, \"we've\": 663, 'intercom': 664, 'wine': 665, 'knock': 666, 'bunch': 667, 'idea': 668, 'restaurant': 669, 'since': 670, 'pause': 671, 'exits': 672, 'couch': 673, 'scream': 674, 'kind': 675, 'yourself': 676, 'pregnant': 677, 'lasagne': 678, 'gave': 679, 'w': 680, 'helen': 681, 'smoking': 682, 'leslie': 683, 'jack': 684, 'puck': 685, 'alaria': 686, 'offers': 687, 'mingle': 688, 'contrasts': 689, 'threads': 690, 'cities': 691, 'blue': 692, 'beautiful': 693, 'along': 694, 'drop': 695, 'transformed': 696, 'colors': 697, 'perfect': 698, 'coming': 699, 'enjoy': 700, 'countless': 701, 'explore': 702, 'ventured': 703, 'further': 704, 'discover': 705, 'legends': 706, 'stretched': 707, 'dreams': 708, 'reality': 709, 'amid': 710, 'art': 711, 'international': 712, 'valley': 713, 'hills': 714, 'seemed': 715, 'cobblestone': 716, 'locals': 717, 'away': 718, 'sunlight': 719, 'solitude': 720, 'expanse': 721, 'sea': 722, 'harsh': 723, 'plant': 724, 'nocturnal': 725, 'shared': 726, 'pink': 727, 'connection': 728, 'explorers': 729, 'facing': 730, 'glowing': 731, 'chorus': 732, 'detailed': 733, 'incredible': 734, 'sense': 735, 'himalayas': 736, 'red': 737, 'fields': 738, 'dances': 739, 'resources': 740, 'evocative': 741, 'faroe': 742, 'determination': 743, 'among': 744, 'architecture': 745, 'light': 746, 'display': 747, 'humans': 748, 'took': 749, \"here's\": 750, 'madagascar': 751, 'blend': 752, 'spices': 753, 'sample': 754, '10': 755, 'full': 756, 'ghost': 757, 'developed': 758, 'summit': 759, 'rise': 760, 'threats': 761, 'capable': 762, 'develop': 763, 'algorithm': 764, 'communities': 765, 'based': 766, 'powerful': 767, 'processed': 768, 'food': 769, 'american': 770, 'strong': 771, 'least': 772, 'experts': 773, 'measures': 774, 'address': 775, 'content': 776, 'step': 777, 'ethical': 778, 'privacy': 779, 'chance': 780, 'number': 781, 'constantly': 782, 'programming': 783, 'memory': 784, 'programs': 785, 'second': 786, 'finally': 787, 'easy': 788, 'continues': 789, 'arms': 790, 'example': 791, 'done': 792, 'ready': 793, 'continue': 794, 'everyday': 795, 'important': 796, 'non': 797, 'forgotten': 798, 'become': 799, 'format': 800, 'importance': 801, 'free': 802, 'alchemist': 803, 'themes': 804, 'prejudice': 805, 'considered': 806, 'rings': 807, 'men': 808, 'palaces': 809, 'setting': 810, 'cup': 811, 'instead': 812, 'everything': 813, 'rhythmic': 814, 'eleanor': 815, 'fiery': 816, 'says': 817, 'additional': 818, 'keep': 819, 'html': 820, 'bit': 821, 'because': 822, 'values': 823, 'type': 824, 'turn': 825, 'mother': 826, 'myself': 827, 'pretty': 828, 'married': 829, \"ross's\": 830, 'holding': 831, 'wearing': 832, 'push': 833, 'stairs': 834, 'money': 835, 'sings': 836, 'rach': 837, 'ah': 838, 'shut': 839, 'commercial': 840, 'gives': 841, 'ask': 842, 'watch': 843, 'loved': 844, 'amazing': 845, 'table': 846, \"we'll\": 847, 'dead': 848, 'sleep': 849, 'card': 850, 'ya': 851, 'means': 852, 'butt': 853, 'excuse': 854, 'though': 855, \"how's\": 856, 'pillow': 857, 'tomorrow': 858, 'baby': 859, 'mindy': 860, 'finger': 861, 'whaddya': 862, 'fair': 863, 'promise': 864, 'buddy': 865, 'george': 866, 'omnipotent': 867, 'emergency': 868, 'brighter': 869, 'contradictions': 870, 'shines': 871, 'africa': 872, 'started': 873, 'canvas': 874, 'gathered': 875, 'smell': 876, 'gather': 877, 'continued': 878, 'walls': 879, 'inside': 880, 'halls': 881, 'forest': 882, 'base': 883, 'friendly': 884, 'alive': 885, 'daily': 886, 'skyscrapers': 887, 'freshly': 888, 'patrons': 889, 'urban': 890, 'serene': 891, 'lined': 892, 'treasures': 893, 'lively': 894, 'charming': 895, 'square': 896, 'community': 897, 'passed': 898, 'birds': 899, 'trails': 900, 'providing': 901, 'play': 902, 'heat': 903, 'roamed': 904, 'south': 905, 'handcrafted': 906, 'floor': 907, 'discovered': 908, 'frogs': 909, 'jungle': 910, 'harmony': 911, 'insects': 912, 'dark': 913, 'wonder': 914, 'monastery': 915, 'monks': 916, 'prayer': 917, 'mountain': 918, 'range': 919, 'color': 920, 'adventurers': 921, \"world's\": 922, 'behind': 923, 'skies': 924, 'canopy': 925, 'thrived': 926, 'forms': 927, 'waters': 928, 'understanding': 929, 'treacherous': 930, 'wilderness': 931, 'cliffs': 932, 'mist': 933, 'relentless': 934, 'waves': 935, 'weathered': 936, 'catch': 937, 'danced': 938, 'came': 939, 'mystical': 940, 'inca': 941, 'reach': 942, 'soft': 943, 'cave': 944, 'horizon': 945, 'whisper': 946, 'guided': 947, 'tradition': 948, 'verdant': 949, 'balance': 950, 'national': 951, 'pursuit': 952, 'monasteries': 953, 'chants': 954, 'environmental': 955, 'levels': 956, 'earth': 957, 'completely': 958, 'mouth': 959, 'system': 960, 'suggesting': 961, 'truly': 962, 'revolutionize': 963, 'reduce': 964, 'major': 965, 'specific': 966, 'developing': 967, 'countries': 968, 'powered': 969, 'argue': 970, 'developers': 971, 'study': 972, 'consumption': 973, 'platforms': 974, 'misinformation': 975, 'speech': 976, 'giants': 977, 'comes': 978, 'represent': 979, 'complete': 980, 'computing': 981, 'breakthrough': 982, 'google': 983, 'involved': 984, 'currently': 985, 'exhibit': 986, 'able': 987, 'allows': 988, 'applications': 989, 'companies': 990, 'self': 991, 'cybersecurity': 992, 'businesses': 993, 'protect': 994, 'systems': 995, 'steps': 996, 'source': 997, 'popularity': 998, \"rust's\": 999, 'c': 1000, 'autonomous': 1001, 'raising': 1002, 'race': 1003, 'ban': 1004, 'late': 1005, 'facial': 1006, 'recognition': 1007, 'individual': 1008, 'personal': 1009, 'freedom': 1010, 'age': 1011, 'impact': 1012, 'cannot': 1013, 'times': 1014, 'provide': 1015, \"today's\": 1016, 'classic': 1017, 'booktok': 1018, 'timeless': 1019, 'evolving': 1020, 'texts': 1021, 'technologies': 1022, 'possibilities': 1023, 'act': 1024, 'holds': 1025, 'writing': 1026, 'serve': 1027, 'follows': 1028, 'lord': 1029, 'r': 1030, 'pride': 1031, 'unforgettable': 1032, 'latin': 1033, 'costin': 1034, 'small': 1035, 'encounter': 1036, \"costin's\": 1037, 'unwavering': 1038, 'smile': 1039, 'days': 1040, 'miss': 1041, 'moment': 1042, 'ahead': 1043, 'nods': 1044, 'drip': 1045, 'passion': 1046, 'expression': 1047, 'taste': 1048, \"wasn't\": 1049, 'friend': 1050, 'numbers': 1051, 'encoded': 1052, 'quite': 1053, 'common': 1054, 'although': 1055, 'extra': 1056, '8859': 1057, 'single': 1058, 'understand': 1059, 'mime': 1060, 'half': 1061, 'written': 1062, 'stare': 1063, 'totally': 1064, 'answer': 1065, 'cookie': 1066, 'hell': 1067, 'head': 1068, 'daddy': 1069, 'purse': 1070, 'buy': 1071, 'ha': 1072, 'kitchen': 1073, 'name': 1074, 'supposed': 1075, 'furniture': 1076, 'ohhh': 1077, 'beer': 1078, 'question': 1079, 'eating': 1080, 'laughing': 1081, 'towel': 1082, 'stops': 1083, 'sharing': 1084, 'flavors': 1085, 'happened': 1086, 'spoon': 1087, 'chachi': 1088, 'pot': 1089, 'telling': 1090, 'slept': 1091, 'kidding': 1092, 'credit': 1093, 'anybody': 1094, 'hard': 1095, 'killed': 1096, 'tries': 1097, 'cutting': 1098, 'goodnight': 1099, 'closing': 1100, \"chandler's\": 1101, 'sonogram': 1102, 'opening': 1103, 'comedian': 1104, 'girls': 1105, 'mm': 1106, 'anyone': 1107, 'makes': 1108, 'rest': 1109, 'stares': 1110, 'shoot': 1111, 'deal': 1112, 'bad': 1113, 'ob': 1114, 'gyn': 1115, 'oberman': 1116, 'grabs': 1117, 'wanted': 1118, 'willick': 1119, 'mind': 1120, 'farm': 1121, 'chi': 1122, 'ordered': 1123, 'balcony': 1124, 'dubious': 1125, 'game': 1126, 'pass': 1127, 'runs': 1128, 'listens': 1129, 'testaments': 1130, 'india': 1131, 'reverberate': 1132, 'drenched': 1133, 'australia': 1134, 'continent': 1135, 'outback': 1136, \"australia's\": 1137, 'cathedrals': 1138, \"germany's\": 1139, 'whispers': 1140, 'flamenco': 1141, 'tall': 1142, 'enjoying': 1143, 'weather': 1144, 'leisurely': 1145, 'children': 1146, 'turned': 1147, 'electric': 1148, 'stood': 1149, 'towards': 1150, 'stone': 1151, 'mysteries': 1152, 'magnificent': 1153, 'wooden': 1154, 'dating': 1155, 'secret': 1156, 'treasure': 1157, 'surrounded': 1158, 'inviting': 1159, 'tale': 1160, 'fantasy': 1161, 'intertwined': 1162, 'sequence': 1163, 'exciting': 1164, 'opportunity': 1165, 'reached': 1166, 'heavens': 1167, 'glass': 1168, 'variety': 1169, 'goods': 1170, 'hot': 1171, 'drinks': 1172, 'escape': 1173, 'shade': 1174, 'paths': 1175, 'simply': 1176, 'calm': 1177, 'works': 1178, 'held': 1179, 'various': 1180, 'wound': 1181, 'baked': 1182, 'river': 1183, 'hiking': 1184, 'led': 1185, 'waterfalls': 1186, 'casting': 1187, 'animals': 1188, 'nomadic': 1189, 'sustenance': 1190, 'celestial': 1191, 'occasionally': 1192, 'broken': 1193, 'arid': 1194, 'hunted': 1195, 'textiles': 1196, 'parts': 1197, 'formed': 1198, 'millions': 1199, 'rivers': 1200, 'indigenous': 1201, 'flora': 1202, 'dangers': 1203, 'shadows': 1204, 'calls': 1205, 'bioluminescent': 1206, 'surreal': 1207, 'himalayan': 1208, 'edge': 1209, 'tranquility': 1210, 'otherwise': 1211, 'resonated': 1212, 'touch': 1213, 'painted': 1214, 'hues': 1215, 'orange': 1216, 'mesmerizing': 1217, 'inspiring': 1218, 'emerald': 1219, 'mystery': 1220, 'shores': 1221, 'shrouded': 1222, 'tiny': 1223, 'contrast': 1224, 'otherworldly': 1225, 'cascaded': 1226, 'peaceful': 1227, 'low': 1228, 'hanging': 1229, 'civilization': 1230, 'practices': 1231, 'sacred': 1232, 'treks': 1233, 'path': 1234, 'icelandic': 1235, 'glaciers': 1236, 'coexisted': 1237, 'fire': 1238, 'iceland': 1239, 'epic': 1240, 'shot': 1241, 'water': 1242, 'viking': 1243, \"country's\": 1244, 'experiences': 1245, 'attention': 1246, 'cry': 1247, 'sands': 1248, 'below': 1249, 'delicate': 1250, 'wisdom': 1251, 'bhutanese': 1252, 'happiness': 1253, 'pristine': 1254, 'highest': 1255, 'hospitality': 1256, 'lamps': 1257, 'prayers': 1258, 'island': 1259, 'haven': 1260, 'science': 1261, 'dance': 1262, 'ways': 1263, 'immersive': 1264, 'note': 1265, 'generated': 1266, 'scientists': 1267, 'jellyfish': 1268, 'exploring': 1269, 'relationship': 1270, 'states': 1271, 'hoping': 1272, 'nations': 1273, 'global': 1274, 'rising': 1275, 'test': 1276, 'support': 1277, 'hangs': 1278, 'intelligence': 1279, 'efforts': 1280, 'raised': 1281, 'historical': 1282, 'ensure': 1283, 'diseases': 1284, 'body': 1285, 'essential': 1286, 'spread': 1287, 'include': 1288, 'move': 1289, 'society': 1290, 'fight': 1291, 'provides': 1292, 'era': 1293, 'perform': 1294, 'problems': 1295, 'chatbot': 1296, 'passes': 1297, 'conversations': 1298, 'person': 1299, 'calling': 1300, 'neuralink': 1301, 'brain': 1302, 'interface': 1303, 'devices': 1304, 'directly': 1305, 'misuse': 1306, 'greater': 1307, 'sophisticated': 1308, 'includes': 1309, 'words': 1310, 'rust': 1311, 'fast': 1312, 'pushes': 1313, 'boundaries': 1314, 'fall': 1315, 'united': 1316, 'communication': 1317, 'rollout': 1318, 'seconds': 1319, 'leading': 1320, 'needs': 1321, 'digital': 1322, 'build': 1323, 'promote': 1324, 'thrilling': 1325, 'pick': 1326, 'literary': 1327, 'movement': 1328, 'storytelling': 1329, 'captivate': 1330, 'inspire': 1331, 'legend': 1332, 'pyramids': 1333, \"one's\": 1334, 'own': 1335, 'mockingbird': 1336, 'evil': 1337, 'building': 1338, 'plot': 1339, 'struggle': 1340, 'witty': 1341, 'resonate': 1342, 'magical': 1343, 'lies': 1344, 'driven': 1345, 'determined': 1346, 'team': 1347, 'faces': 1348, 'reminder': 1349, 'streams': 1350, 'rough': 1351, 'seem': 1352, 'yours': 1353, 'exactly': 1354, 'thinks': 1355, 'caught': 1356, 'matters': 1357, 'needed': 1358, 'gestures': 1359, 'create': 1360, 'chapter': 1361, 'clinking': 1362, 'thorne': 1363, 'spent': 1364, 'flavor': 1365, 'wild': 1366, 'term': 1367, 'e': 1368, 'readable': 1369, 'point': 1370, 'etc': 1371, 'breaking': 1372, 'encodings': 1373, 'usage': 1374, 'containing': 1375, 'xml': 1376, 'represented': 1377, 'generally': 1378, '2': 1379, 'independence': 1380, 'special': 1381, 'few': 1382, 'intended': 1383, 'best': 1384, 'main': 1385, 'article': 1386, 'case': 1387, 'letters': 1388, 'index': 1389, 'won': 1390, '32': 1391, 'checksum': 1392, 'linguistic': 1393, 'spanish': 1394, 'mention': 1395, '128': 1396, 'sets': 1397, 'relax': 1398, 'school': 1399, \"weren't\": 1400, 'weird': 1401, 'grabbed': 1402, 'ohh': 1403, 'aura': 1404, 'loud': 1405, 'pain': 1406, 'angry': 1407, 'wet': 1408, 'waitress': 1409, 'hour': 1410, 'gravy': 1411, 'boat': 1412, 'brought': 1413, 'sweet': 1414, 'wondering': 1415, 'bought': 1416, 'show': 1417, 'hat': 1418, 'trouble': 1419, 'staying': 1420, 'noodles': 1421, \"'not\": 1422, \"that'd\": 1423, 'umm': 1424, 'tip': 1425, 'likes': 1426, 'same': 1427, 'until': 1428, 'yelling': 1429, 'aruba': 1430, 'honeymoon': 1431, 'bookcase': 1432, 'picking': 1433, 'clean': 1434, 'cream': 1435, 'lemme': 1436, 'walked': 1437, 'fifth': 1438, 'andrea': 1439, 'herself': 1440, 'kids': 1441, 'iridium': 1442, 'course': 1443, \"c'mere\": 1444, 'gimme': 1445, 'shopping': 1446, 'boots': 1447, \"how'd\": 1448, 'pay': 1449, 'smiles': 1450, 'mmm': 1451, 'las': 1452, 'vegas': 1453, 'basically': 1454, 'issues': 1455, 'ex': 1456, 'wife': 1457, 'fluffed': 1458, 'chaotic': 1459, 'engagement': 1460, 'answers': 1461, 'wh': 1462, 'hours': 1463, 'wants': 1464, 'satisfied': 1465, 'realise': 1466, 'child': 1467, 'pee': 1468, 'hmm': 1469, \"it'll\": 1470, 'onto': 1471, 'either': 1472, 'shake': 1473, 'drops': 1474, \"barry's\": 1475, 'office': 1476, 'jason': 1477, 'minnie': 1478, \"we'd\": 1479, 'hurt': 1480, 'giving': 1481, 'minute': 1482, 'knows': 1483, 'welling': 1484, \"'we\": 1485, \"you'\": 1486, 'leather': 1487, 'dog': 1488, \"joey's\": 1489, \"you'll\": 1490, 'cell': 1491, 'puff': 1492, 'except': 1493, 'worked': 1494, 'account': 1495, 'three': 1496, 'accept': 1497, 'football': 1498, 'laughs': 1499, 'crooked': 1500, 'bugs': 1501, 'envelope': 1502, 'breath': 1503, 'cow': 1504, 'lambchop': 1505, 'pop': 1506, 'care': 1507, 'sarcastic': 1508, 'relieved': 1509, 'stephanopoulos': 1510, 'ninety': 1511, 'birthday': 1512, 'check': 1513, 'garden': 1514, 'twentieth': 1515, 'gone': 1516, 'points': 1517, 'peach': 1518, \"could've\": 1519, 'blender': 1520, 'slumber': 1521, 'twister': 1522, 'plan': 1523, 'walking': 1524, 'whispering': 1525, 'remnants': 1526, \"nepal's\": 1527, 'charm': 1528, 'permeates': 1529, 'genuine': 1530, 'seems': 1531, 'melodies': 1532, 'embrace': 1533, 'belief': 1534, 'soul': 1535, 'america': 1536, 'alongside': 1537, 'progress': 1538, 'stretches': 1539, 'metropolises': 1540, 'artistic': 1541, 'rainforests': 1542, 'castles': 1543, 'rhine': 1544, 'berlin': 1545, 'vineyards': 1546, 'boundless': 1547, 'empires': 1548, 'brightly': 1549, 'breeze': 1550, 'evening': 1551, 'temperature': 1552, 'families': 1553, 'wafted': 1554, 'distance': 1555, 'began': 1556, 'beat': 1557, 'twinkle': 1558, 'grew': 1559, 'joy': 1560, 'hill': 1561, 'spires': 1562, 'witnessed': 1563, 'battles': 1564, 'grand': 1565, 'thick': 1566, \"castle's\": 1567, 'library': 1568, 'impressive': 1569, 'moat': 1570, 'relied': 1571, 'protection': 1572, 'welcoming': 1573, 'lit': 1574, 'traffic': 1575, 'dogs': 1576, 'handmade': 1577, 'jewelry': 1578, 'brewed': 1579, 'cafes': 1580, 'tranquil': 1581, 'showcasing': 1582, 'latest': 1583, 'plays': 1584, 'galleries': 1585, 'artists': 1586, 'orchestra': 1587, 'museums': 1588, 'wonderland': 1589, 'neon': 1590, 'buzzed': 1591, 'bars': 1592, 'picturesque': 1593, 'pace': 1594, 'cottages': 1595, 'tree': 1596, 'market': 1597, 'produce': 1598, 'artisanal': 1599, 'played': 1600, 'pastries': 1601, 'elderly': 1602, 'summer': 1603, 'surrounding': 1604, 'song': 1605, 'opportunities': 1606, 'nights': 1607, 'cool': 1608, 'relentlessly': 1609, 'golden': 1610, 'unforgiving': 1611, 'resilient': 1612, 'adapted': 1613, 'thrive': 1614, 'extreme': 1615, 'concealed': 1616, 'pockets': 1617, \"desert's\": 1618, 'tuareg': 1619, 'indigo': 1620, 'dyed': 1621, 'turbans': 1622, 'skilled': 1623, 'navigators': 1624, 'sahel': 1625, 'elephants': 1626, 'plains': 1627, 'prey': 1628, 'raw': 1629, 'cathedral': 1630, 'vegetation': 1631, 'piranhas': 1632, 'eels': 1633, 'dolphins': 1634, 'undergrowth': 1635, 'poison': 1636, 'dart': 1637, 'soundtrack': 1638, 'preserved': 1639, \"forest's\": 1640, 'mysterious': 1641, 'anaconda': 1642, 'lurked': 1643, \"amazon's\": 1644, 'songs': 1645, 'fireflies': 1646, 'search': 1647, 'awe': 1648, 'meditation': 1649, 'enlightenment': 1650, 'flags': 1651, 'rare': 1652, 'leopards': 1653, 'rhododendron': 1654, 'added': 1655, 'terraced': 1656, 'produced': 1657, 'vital': 1658, 'crops': 1659, 'costumes': 1660, 'globe': 1661, 'followed': 1662, 'views': 1663, 'stargazing': 1664, 'milky': 1665, 'constellations': 1666, 'profound': 1667, 'exotic': 1668, 'murky': 1669, 'whose': 1670, 'inhabited': 1671, 'included': 1672, 'plants': 1673, 'exquisite': 1674, 'cacophony': 1675, 'birdcalls': 1676, 'emerged': 1677, 'trove': 1678, 'extraordinary': 1679, 'called': 1680, 'dramatically': 1681, 'stark': 1682, 'puffins': 1683, 'sheer': 1684, 'drawn': 1685, 'clouds': 1686, 'northern': 1687, 'forces': 1688, 'andes': 1689, 'perched': 1690, 'ingenuity': 1691, 'enigmatic': 1692, 'terraces': 1693, 'plazas': 1694, 'embarked': 1695, 'following': 1696, 'melody': 1697, 'changing': 1698, 'sanctuary': 1699, 'site': 1700, 'volcanoes': 1701, 'geothermal': 1702, 'mud': 1703, 'drifted': 1704, 'steam': 1705, 'immense': 1706, 'ground': 1707, 'homes': 1708, 'vegetables': 1709, 'despite': 1710, 'journeyed': 1711, 'snorkeling': 1712, 'captured': 1713, 'became': 1714, 'ethereal': 1715, 'sipping': 1716, 'grandeur': 1717, 'shaped': 1718, 'aspect': 1719, 'gift': 1720, 'drawing': 1721, 'remarkable': 1722, 'dipped': 1723, 'unparalleled': 1724, 'descriptive': 1725, 'principles': 1726, 'dancers': 1727, 'paintings': 1728, \"nation's\": 1729, 'clinging': 1730, 'butter': 1731, 'incense': 1732, 'focus': 1733, 'kingdom': 1734, 'extended': 1735, 'project': 1736, 'nowhere': 1737, 'fauna': 1738, 'fiction': 1739, 'novel': 1740, 'lemurs': 1741, 'evolution': 1742, 'changed': 1743, 'aye': 1744, 'malagasy': 1745, 'influences': 1746, 'witness': 1747, 'de': 1748, 'coral': 1749, 'reefs': 1750, 'class': 1751, 'haunting': 1752, 'moonlight': 1753, 'destination': 1754, 'marvels': 1755, 'richness': 1756, 'confirmation': 1757, 'creature': 1758, 'possesses': 1759, 'organs': 1760, 'visible': 1761, 'pulsating': 1762, 'skin': 1763, 'network': 1764, 'sensory': 1765, 'highly': 1766, 'nervous': 1767, 'represents': 1768, 'marine': 1769, 'leaders': 1770, 'paris': 1771, 'agreement': 1772, 'emissions': 1773, 'action': 1774, 'events': 1775, 'mass': 1776, 'commitment': 1777, 'targets': 1778, 'financial': 1779, 'predicting': 1780, 'artificial': 1781, 'sources': 1782, 'police': 1783, 'patterns': 1784, 'identify': 1785, 'discrimination': 1786, 'certain': 1787, 'designed': 1788, 'careful': 1789, 'responsibly': 1790, 'links': 1791, 'published': 1792, '100': 1793, 'consumed': 1794, 'foods': 1795, 'evidence': 1796, 'diet': 1797, 'response': 1798, 'facebook': 1799, 'issue': 1800, 'fact': 1801, 'promoted': 1802, 'pressure': 1803, 'governments': 1804, 'host': 1805, 'forward': 1806, 'focusing': 1807, 'paves': 1808, 'landmark': 1809, 'classical': 1810, 'turing': 1811, 'machine': 1812, 'intelligent': 1813, 'behavior': 1814, 'named': 1815, 'topics': 1816, 'regulations': 1817, 'elon': 1818, 'unveils': 1819, 'bci': 1820, 'users': 1821, 'thoughts': 1822, 'restore': 1823, 'risks': 1824, 'associated': 1825, 'antitrust': 1826, 'scrutiny': 1827, 'dominance': 1828, 'increasing': 1829, 'regulators': 1830, 'engaged': 1831, 'forced': 1832, 'business': 1833, 'success': 1834, 'vigilance': 1835, 'alike': 1836, 'due': 1837, 'safety': 1838, 'software': 1839, 'extremely': 1840, 'learn': 1841, 'expect': 1842, 'increasingly': 1843, 'possible': 1844, 'difficult': 1845, 'conflicts': 1846, 'peacefully': 1847, 'production': 1848, 'mobile': 1849, 'lower': 1850, 'download': 1851, 'videos': 1852, 'virtual': 1853, 'connect': 1854, 'machines': 1855, 'internet': 1856, 'mount': 1857, 'erosion': 1858, 'consent': 1859, 'gender': 1860, 'third': 1861, 'pledges': 1862, 'centers': 1863, 'electronic': 1864, 'waste': 1865, 'constant': 1866, 'pledged': 1867, 'renewable': 1868, '2030': 1869, 'direction': 1870, 'immerse': 1871, 'ourselves': 1872, 'imagination': 1873, 'thinking': 1874, 'skills': 1875, 'solace': 1876, 'during': 1877, 'numerous': 1878, 'improve': 1879, 'learning': 1880, 'rediscover': 1881, 'trend': 1882, 'platform': 1883, 'sales': 1884, 'seeing': 1885, 'shows': 1886, 'encourage': 1887, 'celebrate': 1888, 'piecing': 1889, 'valuable': 1890, 'insights': 1891, 'enrich': 1892, 'innovative': 1893, 'formats': 1894, 'challenging': 1895, 'interactive': 1896, 'questions': 1897, 'physical': 1898, 'itself': 1899, 'regardless': 1900, 'education': 1901, 'space': 1902, 'visit': 1903, 'paulo': 1904, 'coelho': 1905, 'tells': 1906, 'santiago': 1907, 'embarks': 1908, 'king': 1909, 'listening': 1910, 'delves': 1911, 'harper': 1912, 'lee': 1913, 'narrative': 1914, 'commentary': 1915, 'reminding': 1916, 'fighting': 1917, 'j': 1918, 'tolkien': 1919, 'fictional': 1920, 'middle': 1921, 'embark': 1922, 'perilous': 1923, 'courage': 1924, 'enthrall': 1925, 'jane': 1926, 'austen': 1927, 'satire': 1928, 'romantic': 1929, 'england': 1930, 'navigate': 1931, 'complexities': 1932, 'dialogue': 1933, 'gabriel': 1934, 'garcía': 1935, 'márquez': 1936, 'masterpiece': 1937, 'captivated': 1938, 'location': 1939, 'uncover': 1940, 'terrain': 1941, 'uses': 1942, 'archaeology': 1943, 'slowly': 1944, 'weeks': 1945, 'imagined': 1946, 'discovers': 1947, 'finds': 1948, 'public': 1949, 'skill': 1950, 'precision': 1951, 'fate': 1952, 'fills': 1953, 'dressed': 1954, 'deeply': 1955, 'ugh': 1956, 'report': 1957, 'corporate': 1958, 'moments': 1959, 'rush': 1960, 'focused': 1961, 'appreciate': 1962, 'smiling': 1963, 'definitely': 1964, 'key': 1965, 'spark': 1966, 'rebellion': 1967, 'establishment': 1968, 'hushed': 1969, 'mugs': 1970, 'barista': 1971, 'weary': 1972, 'agent': 1973, 'ruthless': 1974, 'movements': 1975, 'quiet': 1976, 'heavy': 1977, 'hesitates': 1978, 'black': 1979, 'barely': 1980, 'above': 1981, 'pleasure': 1982, 'enjoyed': 1983, 'sip': 1984, 'surprise': 1985, 'synthetic': 1986, 'begins': 1987, 'flickering': 1988, 'sees': 1989, 'yearning': 1990, 'surface': 1991, 'fragrant': 1992, 'whispered': 1993, 'suddenly': 1994, 'bursts': 1995, 'etched': 1996, 'tense': 1997, 'inner': 1998, 'adding': 1999, 'reader': 2000, 'run': 2001, 'contents': 2002, 'representation': 2003, 'objects': 2004, 'floating': 2005, 'images': 2006, 'spaces': 2007, 'document': 2008, 'interpreted': 2009, 'loosely': 2010, 'contain': 2011, 'exclude': 2012, 'indication': 2013, 'taken': 2014, 'correctly': 2015, 'string': 2016, 'bytes': 2017, 'express': 2018, 'converting': 2019, 'according': 2020, 'un': 2021, 'plus': 2022, 'sgml': 2023, 'rtf': 2024, 'tex': 2025, 'structures': 2026, 'meta': 2027, 'form': 2028, 'thus': 2029, 'nearly': 2030, 'particular': 2031, 'endianness': 2032, 'formatting': 2033, 'opened': 2034, 'mac': 2035, 'os': 2036, 'browsers': 2037, 'browser': 2038, 'almost': 2039, 'instructions': 2040, 'program': 2041, 'mail': 2042, 'txt': 2043, 'early': 2044, '6': 2045, 'bits': 2046, '0': 2047, 'near': 2048, 'conventions': 2049, 'upper': 2050, 'ibm': 2051, 'process': 2052, 'graphic': 2053, 'stored': 2054, 'remaining': 2055, 'sign': 2056, 'entirely': 2057, 'defined': 2058, 'impossible': 2059, 'eventually': 2060, 'covers': 2061, 'cover': 2062, 'variations': 2063, 'situation': 2064, 'unified': 2065, 'whatever': 2066, 'explicitly': 2067, 'email': 2068, 'http': 2069, 'charset': 2070, 'json': 2071, 'c0': 2072, 'c1': 2073, 'tape': 2074, 'positions': 2075, 'marta': 2076, 'kauffman': 2077, 'crane': 2078, 'hump': 2079, 'eat': 2080, 'realize': 2081, 'naked': 2082, 'sudden': 2083, 'entered': 2084, 'pulled': 2085, 'neck': 2086, 'front': 2087, 'dad': 2088, 'grandchildren': 2089, 'feeling': 2090, 'dress': 2091, 'extends': 2092, 'hammer': 2093, 'brother': 2094, 'hug': 2095, 'umbrella': 2096, 'potato': 2097, 'familiar': 2098, 'guessing': 2099, 'imitating': 2100, 'decide': 2101, 'marry': 2102, 'pants': 2103, \"'you're\": 2104, 'paper': 2105, 'bag': 2106, 'breathe': 2107, 'rabbits': 2108, 'hall': 2109, 'hitting': 2110, 'buzz': 2111, 'asked': 2112, \"what're\": 2113, 'deadpan': 2114, 'subway': 2115, 'singing': 2116, 'giant': 2117, 'assembling': 2118, 'brackety': 2119, 'legs': 2120, 'finishing': 2121, 'favorite': 2122, 'outta': 2123, 'steer': 2124, 'pacing': 2125, 'cuts': 2126, 'divorced': 2127, 'hits': 2128, 'road': 2129, 'dough': 2130, 'nuts': 2131, 'eight': 2132, 'grab': 2133, 'hungry': 2134, 'spit': 2135, 'join': 2136, 'bound': 2137, 'difference': 2138, 'gazes': 2139, 'staring': 2140, 'entire': 2141, 'roll': 2142, 'walk': 2143, 'kiss': 2144, 'jobs': 2145, 'unless': 2146, 'abuse': 2147, 'aunt': 2148, 'universe': 2149, 'beacon': 2150, 'feet': 2151, \"'i\": 2152, 'pays': 2153, 'father': 2154, 'cards': 2155, 'pair': 2156, 'cleaning': 2157, 'cheer': 2158, 'finishes': 2159, 'sometime': 2160, 'mon': 2161, \"paul's\": 2162, 'split': 2163, 'figured': 2164, 'waitwait': 2165, 'hearing': 2166, 'serving': 2167, 'customer': 2168, 'gang': 2169, \"everyone's\": 2170, 'kissing': 2171, 'ticket': 2172, 'problem': 2173, 'matter': 2174, 'advice': 2175, 'museum': 2176, 'club': 2177, 'speaking': 2178, \"three's\": 2179, 'company': 2180, 'ball': 2181, 'fluff': 2182, 'glares': 2183, 'twirly': 2184, 'born': 2185, 'cushions': 2186, 'return': 2187, \"won't\": 2188, 'mad': 2189, 'bottom': 2190, 'puts': 2191, 'stunned': 2192, 'wha': 2193, 'biggest': 2194, 'curry': 2195, 'spaghetti': 2196, 'altar': 2197, 'subject': 2198, 'folks': 2199, 'pulls': 2200, 'ensues': 2201, 'worse': 2202, 'twins': 2203, 'speak': 2204, \"d'ya\": 2205, 'dumped': 2206, 'complicated': 2207, 'somone': 2208, 'leans': 2209, 'picks': 2210, 'quack': 2211, 'marlon': 2212, 'mouse': 2213, 'grandmother': 2214, 'julia': 2215, 'agreed': 2216, \"'s'funny\": 2217, 'ago': 2218, 'orthodontist': 2219, 'spits': 2220, 'borders': 2221, 'returns': 2222, 'dunno': 2223, 'nose': 2224, \"again'\": 2225, 'funny': 2226, 'send': 2227, 'unbelievable': 2228, 'die': 2229, 'minutes': 2230, 'damone': 2231, 'cigarettes': 2232, 'lighter': 2233, 'drag': 2234, 'lets': 2235, 'whoah': 2236, 'reluctantly': 2237, \"guy's\": 2238, 'bank': 2239, 'kept': 2240, 'shoes': 2241, 'quit': 2242, 'putting': 2243, 'schhteve': 2244, 'coyotes': 2245, 'weak': 2246, 'absent': 2247, 'rain': 2248, 'filter': 2249, 'searches': 2250, 'shouting': 2251, 'boyfriends': 2252, 'impression': 2253, 'enter': 2254, 'softball': 2255, 'bunny': 2256, 'given': 2257, 'soda': 2258, 'desk': 2259, 'drawer': 2260, 'sprays': 2261, 'freshener': 2262, 'spray': 2263, 'hiker': 2264, 'nooo': 2265, 'unfair': 2266, 'knuckle': 2267, 'cracking': 2268, 'annoying': 2269, 'flaws': 2270, \"he'll\": 2271, 'true': 2272, 'sock': 2273, 'nicotine': 2274, 'patch': 2275, \"where's\": 2276, 'gum': 2277, 'tart': 2278, 'pretending': 2279, 'less': 2280, 'pal': 2281, \"couldn't\": 2282, 'punch': 2283, 'fica': 2284, \"dad's\": 2285, 'leetch': 2286, 'messier': 2287, 'pit': 2288, 'realises': 2289, 'waitressing': 2290, 'specials': 2291, 'blobbies': 2292, 'party': 2293, 'visa': 2294, 'unusual': 2295, 'activity': 2296, 'miserably': 2297, 'madison': 2298, 'seats': 2299, 'floopy': 2300, 'tosses': 2301, \"'g\": 2302, 'bonehead': 2303, 'mediterranean': 2304, 'stunning': 2305, 'binoculars': 2306, 'cute': 2307, 'sleeping': 2308, 'slides': 2309, 'panel': 2310, 'cushion': 2311, 'laugh': 2312, 'tattered': 2313, \"elara's\": 2314, \"people's\": 2315, 'flicker': 2316, 'serpent': 2317, 'serpents': 2318, 'breathless': 2319, 'ethnicities': 2320, 'religions': 2321, 'thread': 2322, 'coexist': 2323, 'playground': 2324, 'nepali': 2325, 'overflow': 2326, 'emperors': 2327, 'monuments': 2328, 'becomes': 2329, 'collide': 2330, 'indelible': 2331, 'usa': 2332, 'iconic': 2333, 'thrives': 2334, 'flight': 2335, 'sprawl': 2336, 'reflects': 2337, 'beckons': 2338, 'pulsate': 2339, 'aboriginal': 2340, 'echoing': 2341, 'contemporary': 2342, 'alps': 2343, 'unfurls': 2344, 'storybook': 2345, 'tales': 2346, 'munich': 2347, 'opulent': 2348, 'wines': 2349, 'hearty': 2350, 'stews': 2351, 'schnitzels': 2352, 'bavarian': 2353, 'steins': 2354, 'hamburg': 2355, 'research': 2356, 'facilities': 2357, 'oktoberfest': 2358, 'infectious': 2359, 'thrill': 2360, 'immersing': 2361, 'savoring': 2362, 'pleasures': 2363, 'awaits': 2364, 'groves': 2365, 'intertwine': 2366, 'beats': 2367, 'shining': 2368, 'gentle': 2369, 'rustled': 2370, 'stroll': 2371, 'riverbank': 2372, 'games': 2373, 'picnics': 2374, 'barbecues': 2375, 'picnic': 2376, 'lake': 2377, 'band': 2378, 'stage': 2379, 'performance': 2380, 'swaying': 2381, 'crowd': 2382, 'larger': 2383, 'festivities': 2384, 'memories': 2385, 'lifetime': 2386, 'reaching': 2387, 'royal': 2388, 'intrigues': 2389, 'tourists': 2390, 'flocked': 2391, 'tapestries': 2392, 'chandeliers': 2393, 'creaking': 2394, 'floors': 2395, 'echoed': 2396, 'corridors': 2397, 'housed': 2398, 'collection': 2399, 'chambers': 2400, 'passages': 2401, 'spoke': 2402, 'buried': 2403, 'somewhere': 2404, 'brave': 2405, 'adventurer': 2406, 'drawbridge': 2407, 'trade': 2408, 'townspeople': 2409, 'folklore': 2410, 'fairy': 2411, 'converged': 2412, 'creative': 2413, 'generation': 2414, 'chatter': 2415, 'facades': 2416, 'reflecting': 2417, 'metropolis': 2418, 'vendors': 2419, 'sold': 2420, 'sizzling': 2421, 'sipped': 2422, 'chaos': 2423, 'pond': 2424, 'ducks': 2425, 'swans': 2426, \"park's\": 2427, 'benches': 2428, 'midst': 2429, 'storm': 2430, \"city's\": 2431, 'theaters': 2432, 'displaying': 2433, 'eras': 2434, 'sparkling': 2435, 'signs': 2436, 'restaurants': 2437, 'diners': 2438, 'cuisine': 2439, 'nightclubs': 2440, 'beckoned': 2441, 'entertainment': 2442, 'quaint': 2443, 'rows': 2444, 'flower': 2445, 'boxes': 2446, 'featuring': 2447, 'oak': 2448, 'stalls': 2449, 'fresh': 2450, 'crafts': 2451, 'treats': 2452, 'weekly': 2453, 'highlight': 2454, 'tag': 2455, 'bread': 2456, 'bakery': 2457, 'mouthwatering': 2458, 'buttery': 2459, 'croissants': 2460, 'cinnamon': 2461, 'rolls': 2462, 'lured': 2463, 'customers': 2464, 'miles': 2465, 'baker': 2466, 'recipes': 2467, 'meandering': 2468, 'sparkled': 2469, 'lazy': 2470, 'afternoons': 2471, 'picnicking': 2472, 'swimming': 2473, 'meadows': 2474, 'wildflowers': 2475, 'glades': 2476, 'occasional': 2477, 'awaited': 2478, 'deeper': 2479, 'woods': 2480, 'musicians': 2481, 'inn': 2482, 'folk': 2483, 'tunes': 2484, 'serenade': 2485, 'guests': 2486, 'fireplaces': 2487, 'warmed': 2488, 'hearts': 2489, 'sought': 2490, 'refuge': 2491, 'blazed': 2492, 'ecosystem': 2493, 'sweeping': 2494, 'oases': 2495, 'lifeline': 2496, 'greenery': 2497, 'braving': 2498, 'scorching': 2499, 'camelback': 2500, 'robes': 2501, 'uninterrupted': 2502, 'campfires': 2503, 'flickered': 2504, 'infinite': 2505, 'region': 2506, 'transitioned': 2507, 'savanna': 2508, 'giraffes': 2509, 'zebras': 2510, 'lions': 2511, 'cheetahs': 2512, 'stealthily': 2513, 'celebrations': 2514, 'drumming': 2515, 'dancing': 2516, 'integral': 2517, 'canopies': 2518, 'obscured': 2519, 'perpetual': 2520, 'twilight': 2521, 'snaked': 2522, 'howler': 2523, 'monkeys': 2524, 'toucans': 2525, 'remedies': 2526, 'treat': 2527, 'ailments': 2528, 'jaguar': 2529, 'birdlife': 2530, 'jaguarundi': 2531, 'uncovered': 2532, 'thin': 2533, 'frigid': 2534, 'clung': 2535, 'precipitous': 2536, 'cliff': 2537, 'resided': 2538, 'dedicated': 2539, 'fluttering': 2540, 'distant': 2541, 'ringing': 2542, 'bells': 2543, 'murals': 2544, 'depicting': 2545, 'buddha': 2546, 'order': 2547, 'mysticism': 2548, 'pervaded': 2549, 'chanted': 2550, 'prayed': 2551, 'referred': 2552, 'roof': 2553, 'pandas': 2554, 'eagles': 2555, 'altitude': 2556, 'regions': 2557, 'splashes': 2558, 'traded': 2559, 'yak': 2560, 'wool': 2561, 'salt': 2562, 'attracting': 2563, 'corners': 2564, 'trekkers': 2565, 'connected': 2566, 'wheels': 2567, 'spun': 2568, \"passerby's\": 2569, 'releasing': 2570, 'blessings': 2571, 'unpolluted': 2572, 'amazonian': 2573, 'tributaries': 2574, 'meandered': 2575, 'hid': 2576, 'jaguars': 2577, 'prowled': 2578, 'roots': 2579, 'possessed': 2580, 'relying': 2581, 'survival': 2582, 'medicinal': 2583, 'encountering': 2584, 'perils': 2585, 'harpy': 2586, 'eagle': 2587, 'resonance': 2588, 'soundscape': 2589, 'dreamscape': 2590, 'ocelot': 2591, 'hunt': 2592, 'enigma': 2593, 'unraveled': 2594, 'swept': 2595, 'islanders': 2596, 'archipelago': 2597, 'rose': 2598, 'north': 2599, 'atlantic': 2600, 'ocean': 2601, 'battered': 2602, 'ruled': 2603, 'rewards': 2604, 'fishing': 2605, 'houses': 2606, 'turf': 2607, 'roofs': 2608, 'tenacity': 2609, 'masterful': 2610, 'seafarers': 2611, 'depended': 2612, \"ocean's\": 2613, 'bounty': 2614, 'storms': 2615, 'fish': 2616, 'whales': 2617, 'paradise': 2618, 'birdwatchers': 2619, 'naturalists': 2620, 'teemed': 2621, 'seabirds': 2622, 'guillemots': 2623, 'kittiwakes': 2624, 'nesting': 2625, 'narrow': 2626, 'ledges': 2627, 'untamed': 2628, 'vistas': 2629, 'revealing': 2630, 'lakes': 2631, 'parted': 2632, 'reveal': 2633, 'star': 2634, 'studded': 2635, 'candlelit': 2636, 'pubs': 2637, 'isles': 2638, 'citadel': 2639, 'mountaintop': 2640, 'mountainside': 2641, 'agriculture': 2642, 'ceremonial': 2643, 'trail': 2644, 'cloud': 2645, 'rickety': 2646, 'bridges': 2647, 'orchids': 2648, 'butterflies': 2649, 'rushing': 2650, 'soothing': 2651, 'background': 2652, 'quechua': 2653, 'descendants': 2654, 'ancestral': 2655, 'handicrafts': 2656, 'seasons': 2657, 'harvest': 2658, 'parades': 2659, 'serenity': 2660, 'lanterns': 2661, 'meditated': 2662, 'gazing': 2663, 'starlit': 2664, 'contemplating': 2665, 'present': 2666, 'allure': 2667, 'lava': 2668, 'punctuated': 2669, 'springs': 2670, 'bubbling': 2671, 'pots': 2672, 'geological': 2673, 'carved': 2674, 'icebergs': 2675, 'icy': 2676, 'lagoons': 2677, 'geysers': 2678, 'boiling': 2679, 'erupting': 2680, 'unceasing': 2681, 'regularity': 2682, 'heights': 2683, 'rainbows': 2684, 'icelanders': 2685, 'embraced': 2686, \"land's\": 2687, 'abundant': 2688, 'greenhouses': 2689, 'sagas': 2690, 'ranged': 2691, 'tectonic': 2692, 'plates': 2693, 'eyjafjallajökull': 2694, 'erupted': 2695, 'sending': 2696, 'ash': 2697, 'plumes': 2698, 'curtains': 2699, 'shades': 2700, 'cabins': 2701, 'brennivín': 2702, 'schnapps': 2703, 'elemental': 2704, \"iceland's\": 2705, 'indomitable': 2706, 'met': 2707, 'shadow': 2708, 'eternal': 2709, 'undulating': 2710, 'interrupted': 2711, 'masters': 2712, 'traversed': 2713, 'shifting': 2714, 'camels': 2715, 'protected': 2716, 'carried': 2717, 'oral': 2718, 'oasis': 2719, 'palms': 2720, 'respite': 2721, 'wells': 2722, 'lifeblood': 2723, 'settlements': 2724, 'precious': 2725, 'fennec': 2726, 'foxes': 2727, 'meerkats': 2728, 'gazelles': 2729, 'conditions': 2730, 'egyptian': 2731, 'vulture': 2732, 'hoopoe': 2733, 'soared': 2734, 'saharan': 2735, 'cheetah': 2736, \"sahara's\": 2737, 'oranges': 2738, 'purples': 2739, 'brilliance': 2740, 'exists': 2741, 'reverence': 2742, 'gross': 2743, 'cherished': 2744, 'precedence': 2745, 'gangkhar': 2746, 'puensum': 2747, 'unclimbed': 2748, 'loomed': 2749, 'panda': 2750, 'leopard': 2751, \"bhutan's\": 2752, 'organic': 2753, 'fluttered': 2754, 'breezes': 2755, 'tshechus': 2756, 'masks': 2757, 'reenacted': 2758, 'woodwork': 2759, 'reflected': 2760, 'devotion': 2761, 'welcomed': 2762, 'jomolhari': 2763, 'trek': 2764, 'pilgrims': 2765, 'sites': 2766, 'paro': 2767, 'taktsang': 2768, \"eagle's\": 2769, 'nest': 2770, 'displayed': 2771, 'stewardship': 2772, 'certainly': 2773, 'passage': 2774, 'predictor': 2775, 'astounding': 2776, 'evolutionary': 2777, \"madagascar's\": 2778, 'baobab': 2779, 'avenue': 2780, 'baobabs': 2781, 'peculiar': 2782, 'treetops': 2783, 'laboratory': 2784, 'chameleons': 2785, 'match': 2786, 'surroundings': 2787, \"nature's\": 2788, 'creativity': 2789, 'african': 2790, 'asian': 2791, 'arabian': 2792, 'woodcarvings': 2793, 'showcased': 2794, 'locally': 2795, 'crafted': 2796, 'limestone': 2797, 'formations': 2798, 'tsingy': 2799, 'bemaraha': 2800, 'maze': 2801, 'jagged': 2802, 'diving': 2803, 'indri': 2804, 'largest': 2805, 'ideal': 2806, \"evolution's\": 2807, 'spectacular': 2808, 'define': 2809, 'depths': 2810, 'mariana': 2811, 'trench': 2812, 'unlike': 2813, 'previously': 2814, 'bizarre': 2815, 'dubbed': 2816, \"'glowing\": 2817, 'features': 2818, 'baffled': 2819, 'transparent': 2820, 'internal': 2821, 'lacks': 2822, 'digestive': 2823, 'rely': 2824, 'symbiotic': 2825, 'organisms': 2826, 'additionally': 2827, 'hinting': 2828, 'groundbreaking': 2829, 'anya': 2830, 'sharma': 2831, 'researcher': 2832, 'expedition': 2833, 'branch': 2834, 'sheds': 2835, 'analysis': 2836, 'underway': 2837, 'unlock': 2838, 'biology': 2839, 'ecosystems': 2840, '200': 2841, 'convened': 2842, 'crucial': 2843, 'aimed': 2844, 'addressing': 2845, 'crisis': 2846, 'seeks': 2847, 'establish': 2848, 'legally': 2849, 'binding': 2850, 'greenhouse': 2851, 'gas': 2852, 'limit': 2853, 'stakes': 2854, 'warn': 2855, 'catastrophic': 2856, 'consequences': 2857, 'fail': 2858, 'extinctions': 2859, 'posed': 2860, 'expected': 2861, 'cooperation': 2862, 'expressed': 2863, 'tackling': 2864, 'differences': 2865, 'remain': 2866, 'regarding': 2867, 'emission': 2868, 'reduction': 2869, 'succeed': 2870, 'forging': 2871, 'curbing': 2872, 'planet': 2873, 'mit': 2874, 'accuracy': 2875, 'analyzes': 2876, 'reports': 2877, 'areas': 2878, 'prevention': 2879, 'identifying': 2880, 'hotspots': 2881, 'allocate': 2882, 'effectively': 2883, 'proactively': 2884, 'intervene': 2885, 'crimes': 2886, 'occur': 2887, 'bias': 2888, 'prediction': 2889, 'critics': 2890, 'unfairly': 2891, 'target': 2892, 'insist': 2893, 'unbiased': 2894, 'impartial': 2895, 'nevertheless': 2896, 'acknowledge': 2897, 'implementation': 2898, 'ongoing': 2899, 'monitoring': 2900, 'journal': 2901, 'medical': 2902, 'association': 2903, 'link': 2904, 'participants': 2905, 'period': 2906, '20': 2907, 'tracking': 2908, 'dietary': 2909, 'habits': 2910, 'diagnoses': 2911, 'twice': 2912, 'likely': 2913, 'compared': 2914, 'unhealthy': 2915, 'fats': 2916, 'sodium': 2917, 'sugar': 2918, 'linked': 2919, 'chronic': 2920, 'adds': 2921, 'healthy': 2922, 'reducing': 2923, 'recommend': 2924, 'fruits': 2925, 'grains': 2926, 'limiting': 2927, 'intake': 2928, 'crack': 2929, 'twitter': 2930, 'announced': 2931, 'improved': 2932, 'checking': 2933, 'algorithms': 2934, 'stricter': 2935, 'moderation': 2936, 'policies': 2937, 'transparency': 2938, 'mounting': 2939, 'civil': 2940, 'groups': 2941, 'accountable': 2942, 'effectiveness': 2943, 'online': 2944, 'articles': 2945, 'proceed': 2946, 'generating': 2947, 'confirm': 2948, 'achieved': 2949, 'successfully': 2950, 'demonstrating': 2951, 'supremacy': 2952, 'achievement': 2953, 'leap': 2954, 'nascent': 2955, 'harness': 2956, 'mechanics': 2957, 'calculations': 2958, 'capabilities': 2959, 'cryptography': 2960, 'materials': 2961, \"team's\": 2962, '53': 2963, 'qubit': 2964, 'processor': 2965, 'task': 2966, 'billions': 2967, 'demonstrates': 2968, 'solve': 2969, 'intractable': 2970, 'openai': 2971, 'reportedly': 2972, 'benchmark': 2973, 'assess': 2974, 'equivalent': 2975, 'deceive': 2976, 'manipulate': 2977, 'bard': 2978, 'engage': 2979, 'indistinguishably': 2980, 'malicious': 2981, 'actors': 2982, 'propaganda': 2983, 'guidelines': 2984, 'harm': 2985, 'musk': 2986, \"musk's\": 2987, 'unveiled': 2988, 'promises': 2989, 'interact': 2990, 'device': 2991, 'chip': 2992, 'implanted': 2993, 'external': 2994, 'limbs': 2995, 'cure': 2996, 'neurological': 2997, 'enhance': 2998, 'stifle': 2999, 'competition': 3000, 'investigating': 3001, 'allegations': 3002, 'anti': 3003, 'competitive': 3004, 'preferencing': 3005, 'predatory': 3006, 'pricing': 3007, 'guilty': 3008, 'hefty': 3009, 'fines': 3010, 'changes': 3011, 'outcome': 3012, 'investigations': 3013, 'implications': 3014, 'fragmented': 3015, 'smaller': 3016, 'urge': 3017, 'posing': 3018, 'urging': 3019, 'adoption': 3020, 'robust': 3021, 'cybercriminals': 3022, 'techniques': 3023, 'attacking': 3024, 'attacks': 3025, 'result': 3026, 'breaches': 3027, 'losses': 3028, 'reputational': 3029, 'damage': 3030, 'themselves': 3031, 'implementing': 3032, 'passwords': 3033, 'encryption': 3034, 'backing': 3035, 'regularly': 3036, 'gains': 3037, 'rapidly': 3038, 'gaining': 3039, 'combination': 3040, 'speed': 3041, 'expressiveness': 3042, 'particularly': 3043, 'suited': 3044, 'level': 3045, 'operating': 3046, 'embedded': 3047, 'factors': 3048, 'contribute': 3049, 'emphasis': 3050, 'eliminates': 3051, 'leaks': 3052, 'vulnerabilities': 3053, 'plague': 3054, 'compiler': 3055, 'producing': 3056, 'syntax': 3057, 'expressive': 3058, 'choice': 3059, 'grow': 3060, 'wide': 3061, 'secure': 3062, 'reliable': 3063, 'surround': 3064, 'killer': 3065, 'robots': 3066, 'selecting': 3067, 'intervention': 3068, 'accountability': 3069, 'resolve': 3070, 'worry': 3071, 'commit': 3072, 'atrocities': 3073, 'considering': 3074, 'treaty': 3075, 'prohibit': 3076, 'revolutionizes': 3077, 'revolutionizing': 3078, 'significantly': 3079, 'faster': 3080, 'speeds': 3081, 'latency': 3082, 'capacity': 3083, 'transform': 3084, 'large': 3085, 'stream': 3086, 'definition': 3087, 'buffering': 3088, 'gaming': 3089, 'benefit': 3090, 'sensors': 3091, 'iot': 3092, 'efficiency': 3093, 'productivity': 3094, 'faced': 3095, 'health': 3096, 'exposure': 3097, 'radiation': 3098, 'delayed': 3099, 'security': 3100, 'advances': 3101, 'becoming': 3102, 'surveillance': 3103, 'widespread': 3104, 'track': 3105, 'discriminate': 3106, 'characteristics': 3107, 'restrict': 3108, 'assembly': 3109, 'ensuring': 3110, 'ethically': 3111, 'turnover': 3112, 'apple': 3113, 'committed': 3114, 'operations': 3115, 'achieve': 3116, 'net': 3117, 'zero': 3118, 'carbon': 3119, 'invest': 3120, 'sustainable': 3121, 'products': 3122, 'requests': 3123, 'datasets': 3124, 'domains': 3125, 'lengths': 3126, 'assist': 3127, 'dominated': 3128, 'instant': 3129, 'gratification': 3130, 'dying': 3131, 'replicated': 3132, 'medium': 3133, 'perspectives': 3134, 'helps': 3135, 'empathy': 3136, 'critical': 3137, 'comfort': 3138, 'benefits': 3139, 'anecdotal': 3140, 'studies': 3141, 'shown': 3142, 'regular': 3143, 'cognitive': 3144, 'function': 3145, 'stress': 3146, 'boost': 3147, 'mental': 3148, 'vocabulary': 3149, 'lifelong': 3150, 'paced': 3151, 'provoking': 3152, 'fueling': 3153, 'renaissance': 3154, 'tiktok': 3155, 'causing': 3156, 'surge': 3157, 'sparking': 3158, 'renewed': 3159, 'interest': 3160, 'creators': 3161, 'reviews': 3162, 'recommendations': 3163, 'publishing': 3164, 'spike': 3165, 'featured': 3166, 'encouraging': 3167, 'positive': 3168, 'trends': 3169, 'interests': 3170, 'enduring': 3171, 'appeal': 3172, 'unearthing': 3173, 'dusty': 3174, 'archives': 3175, 'private': 3176, 'collections': 3177, 'recent': 3178, 'scholars': 3179, 'tirelessly': 3180, 'unearth': 3181, 'involves': 3182, 'painstaking': 3183, 'transcribing': 3184, 'translating': 3185, 'fragments': 3186, 'rediscovery': 3187, 'societies': 3188, 'emerging': 3189, 'notions': 3190, 'ebooks': 3191, 'audiobooks': 3192, 'writers': 3193, 'publishers': 3194, 'accessible': 3195, 'audiences': 3196, 'expose': 3197, 'obsolete': 3198, 'presented': 3199, 'preserving': 3200, 'repositories': 3201, 'hubs': 3202, 'institutions': 3203, 'role': 3204, 'literacy': 3205, 'clubs': 3206, 'author': 3207, 'readings': 3208, 'workshops': 3209, 'depends': 3210, 'advocate': 3211, 'adequate': 3212, 'funding': 3213, 'utilize': 3214, 'services': 3215, 'shepherd': 3216, 'fulfill': 3217, 'recurring': 3218, 'wise': 3219, 'travels': 3220, 'egypt': 3221, 'obstacles': 3222, 'pursuing': 3223, 'intuition': 3224, 'concept': 3225, 'destined': 3226, 'follow': 3227, 'inspiration': 3228, 'guidance': 3229, 'innocence': 3230, 'depression': 3231, 'scout': 3232, 'finch': 3233, 'witnesses': 3234, 'firsthand': 3235, 'racial': 3236, 'injustices': 3237, 'tolerance': 3238, 'dynamics': 3239, 'segregated': 3240, 'poignant': 3241, 'relevant': 3242, 'injustice': 3243, 'vs': 3244, 'sprawling': 3245, 'imaginations': 3246, 'fellowship': 3247, 'hobbits': 3248, 'elves': 3249, 'dwarves': 3250, 'quest': 3251, 'destroy': 3252, 'artifact': 3253, 'sauron': 3254, 'friendship': 3255, 'cornerstone': 3256, 'adaptations': 3257, 'continuing': 3258, 'comedy': 3259, 'insightful': 3260, '19th': 3261, 'century': 3262, 'elizabeth': 3263, 'bennet': 3264, 'spirited': 3265, 'choose': 3266, 'suitors': 3267, 'sharp': 3268, 'observations': 3269, 'roles': 3270, 'judging': 3271, 'beloved': 3272, 'humor': 3273, 'romance': 3274, 'realist': 3275, 'realism': 3276, 'buendía': 3277, 'town': 3278, 'macondo': 3279, 'blends': 3280, 'fantastical': 3281, 'political': 3282, 'realities': 3283, 'imagery': 3284, 'loss': 3285, 'cyclical': 3286, 'rumors': 3287, 'exact': 3288, 'remained': 3289, 'explorer': 3290, 'henry': 3291, 'brilliant': 3292, 'eccentric': 3293, 'archaeologist': 3294, 'believes': 3295, 'myth': 3296, 'obsession': 3297, 'accompanied': 3298, 'guides': 3299, 'porters': 3300, 'battle': 3301, 'dangerous': 3302, 'suspicion': 3303, 'hostility': 3304, 'wary': 3305, 'outsiders': 3306, 'motives': 3307, 'hardships': 3308, 'wavers': 3309, 'decipher': 3310, 'clues': 3311, 'civilizations': 3312, 'puzzle': 3313, \"z's\": 3314, 'searching': 3315, 'stumbles': 3316, 'clears': 3317, 'astonished': 3318, 'sprawled': 3319, 'advanced': 3320, 'existed': 3321, 'arrival': 3322, 'europeans': 3323, 'elaborate': 3324, 'constructed': 3325, 'wealth': 3326, 'artifacts': 3327, 'artwork': 3328, 'shed': 3329, 'beliefs': 3330, 'field': 3331, 'rewrites': 3332, 'abandoned': 3333, 'curiosity': 3334, 'places': 3335, 'afternoon': 3336, 'professional': 3337, 'attire': 3338, 'laptop': 3339, 'gentleman': 3340, 'sighs': 3341, 'rubbing': 3342, 'tired': 3343, 'finish': 3344, 'startled': 3345, 'deadlines': 3346, 'meetings': 3347, 'shebang': 3348, 'grind': 3349, 'beast': 3350, 'calmness…': 3351, 'enviable': 3352, 'chuckles': 3353, 'perks': 3354, 'retirement': 3355, 'cracked': 3356, 'turning': 3357, 'page': 3358, 'stranger…': 3359, 'rat': 3360, 'remind': 3361, 'lady': 3362, 'ride': 3363, 'recommendation': 3364, 'modify': 3365, 'liking': 3366, 'scenarios': 3367, 'capture': 3368, 'essence': 3369, 'interaction': 3370, 'alleyway': 3371, 'cityscape': 3372, 'filters': 3373, 'grimy': 3374, 'unassuming': 3375, 'mingles': 3376, 'spoons': 3377, 'ceramic': 3378, '20s': 3379, 'owner': 3380, '30s': 3381, 'journalist': 3382, 'haunted': 3383, '40s': 3384, 'enforcer': 3385, 'meticulously': 3386, 'polishes': 3387, 'countertop': 3388, 'fluid': 3389, 'practiced': 3390, 'subsided': 3391, 'handful': 3392, 'huddled': 3393, 'steaming': 3394, 'secrecy': 3395, 'defiance': 3396, 'scanning': 3397, 'dimly': 3398, 'forbidden': 3399, 'government': 3400, 'outlawed': 3401, 'carries': 3402, 'worn': 3403, 'chasing': 3404, 'danger': 3405, 'asks': 3406, 'tone': 3407, 'eyebrow': 3408, 'hint': 3409, 'amusement': 3410, 'lips': 3411, 'caffeine': 3412, 'train': 3413, 'clandestine': 3414, 'mix': 3415, 'intellectuals': 3416, 'citizens': 3417, 'cast': 3418, 'curious': 3419, 'glances': 3420, 'grinds': 3421, 'extracts': 3422, 'awaken': 3423, \"david's\": 3424, 'transporting': 3425, 'rebellious': 3426, 'savors': 3427, 'widen': 3428, 'substitutes': 3429, 'endure': 3430, 'bold': 3431, 'emotion': 3432, 'tasted': 3433, 'replies': 3434, 'conspiratorial': 3435, 'trash': 3436, 'gaze': 3437, 'burning': 3438, 'resistance': 3439, 'oppressive': 3440, 'regime': 3441, 'controls': 3442, 'strides': 3443, 'grim': 3444, 'feared': 3445, 'respected': 3446, 'enforcement': 3447, 'presence': 3448, 'instantly': 3449, 'silences': 3450, 'replacing': 3451, 'murmur': 3452, 'violation': 3453, 'prohibition': 3454, 'announces': 3455, 'cold': 3456, 'authoritative': 3457, 'arrest': 3458, 'beginning': 3459, 'add': 3460, 'details': 3461, \"characters'\": 3462, 'motivations': 3463, 'tension': 3464, 'consider': 3465, 'introducing': 3466, 'deepen': 3467, 'incorporating': 3468, 'twists': 3469, 'believable': 3470, 'compelling': 3471, 'transport': 3472, 'ripe': 3473, 'loose': 3474, 'g': 3475, 'material': 3476, 'graphical': 3477, 'nor': 3478, 'limited': 3479, 'whitespace': 3480, 'affect': 3481, 'arrangement': 3482, 'breaks': 3483, 'tabulation': 3484, 'formatted': 3485, 'style': 3486, 'structured': 3487, 'structural': 3488, 'paragraphs': 3489, 'sections': 3490, 'identified': 3491, 'portions': 3492, 'integers': 3493, 'speaker': 3494, 'prefer': 3495, 'fonts': 3496, 'layout': 3497, 'markdown': 3498, 'tabs': 3499, 'curly': 3500, 'quotes': 3501, 'hyphens': 3502, 'em': 3503, 'dashes': 3504, 'ligatures': 3505, 'principle': 3506, 'imply': 3507, '16': 3508, 'shrinking': 3509, 'via': 3510, 'effect': 3511, 'consisting': 3512, '4': 3513, 'integer': 3514, 'meaning': 3515, 'correct': 3516, 'alter': 3517, 'interpretation': 3518, 'textual': 3519, 'standard': 3520, 'pure': 3521, 'therefore': 3522, 'styled': 3523, 'identifier': 3524, 'font': 3525, 'size': 3526, 'hypertext': 3527, 'examples': 3528, 'fully': 3529, 'interspersing': 3530, 'sequences': 3531, 'definitions': 3532, 'representations': 3533, 'wiki': 3534, 'irrelevant': 3535, 'svg': 3536, 'drawings': 3537, 'bitmapped': 3538, 'graphics': 3539, 'enables': 3540, 'survive': 3541, 'largely': 3542, 'immune': 3543, 'incompatibilities': 3544, 'avoided': 3545, 'ucs': 3546, 'uniformly': 3547, 'potentially': 3548, 'unknown': 3549, 'subsets': 3550, 'purpose': 3551, 'primarily': 3552, 'require': 3553, 'edited': 3554, 'ubiquitous': 3555, 'editors': 3556, 'utilities': 3557, 'command': 3558, 'commands': 3559, 'typically': 3560, 'processing': 3561, 'dos': 3562, 'unix': 3563, 'kin': 3564, 'web': 3565, 'lynx': 3566, 'mode': 3567, 'universal': 3568, 'commonly': 3569, 'configuration': 3570, 'saved': 3571, 'settings': 3572, 'startup': 3573, 'comment': 3574, 'record': 3575, 'contains': 3576, 'storing': 3577, 'persistently': 3578, '1960s': 3579, 'mainly': 3580, 'crunching': 3581, 'expensive': 3582, 'allocated': 3583, 'permitting': 3584, '64': 3585, 'characters—assigning': 3586, '9': 3587, 'opted': 3588, 'projects': 3589, 'roberto': 3590, \"busa's\": 3591, 'thomisticus': 3592, 'brown': 3593, 'corpus': 3594, 'resort': 3595, 'keying': 3596, 'asterisk': 3597, 'preceding': 3598, 'fred': 3599, 'brooks': 3600, 'argued': 3601, 'strongly': 3602, 'someday': 3603, 'ebcdic': 3604, '31': 3605, 'printing': 3606, '127': 3607, 'digits': 3608, 'punctuation': 3609, '7': 3610, 'ignoring': 3611, 'ubiquity': 3612, 'failed': 3613, 'dollar': 3614, 'useful': 3615, 'accented': 3616, 'french': 3617, 'german': 3618, 'portuguese': 3619, 'unavailable': 3620, 'greek': 3621, 'russian': 3622, 'eastern': 3623, 'needed—often': 3624, 'reassigning': 3625, '255': 3626, '8th': 3627, 'gradually': 3628, 'died': 3629, 'differently': 3630, 'decode': 3631, 'figuring': 3632, \"originator's\": 3633, 'rules': 3634, 'instance': 3635, '¬a': 3636, 'tried': 3637, 'interpret': 3638, 'organization': 3639, 'standardization': 3640, 'pages': 3641, 'accommodate': 3642, 'european': 3643, '2022': 3644, 'switching': 3645, 'mid': 3646, 'organisations': 3647, 'macintosh': 3648, 'incompatible': 3649, 'consortium': 3650, 'conflict': 3651, 'citation': 3652, '114': 3653, '112': 3654, 'assigns': 3655, 'covering': 3656, 'ones': 3657, \"printer's\": 3658, 'dingbats': 3659, 'mathematical': 3660, 'symbols': 3661, 'properly': 3662, 'recipient': 3663, 'perhaps': 3664, 'stating': 3665, 'default': 3666, 'application': 3667, 'received': 3668, 'explicit': 3669, 'detection': 3670, 'attempt': 3671, 'reserves': 3672, '0–31': 3673, 'decimal': 3674, 'originally': 3675, 'printable': 3676, 'printers': 3677, 'magnetic': 3678, 'newline': 3679, 'tab': 3680, '159': 3681, 'rarely': 3682, 'documents': 3683, 'ostensibly': 3684, 'refer': 3685, 'position': 3686, 'proprietary': 3687, '1252': 3688, 'roman': 3689, 'defines': 3690, 'bi': 3691, 'directional': 3692, 'override': 3693, 'variation': 3694, 'selectors': 3695, 'select': 3696, 'alternate': 3697, 'cjk': 3698, 'ideographs': 3699, 'emoji': 3700, 'roommate': 3701, 'pilot': 3702, 'uncut': 3703, 'version': 3704, 'hairpiece': 3705, 'chalk': 3706, 'bemused': 3707, 'carl': 3708, 'dinner': 3709, 'cafeteria': 3710, 'mortified': 3711, 'sweetie': 3712, 'throat': 3713, 'intestine': 3714, 'tied': 3715, 'explaining': 3716, 'moved': 3717, 'pluck': 3718, 'cleansing': 3719, \"she'll\": 3720, 'fixating': 3721, 'hysterical': 3722, 'sobbing': 3723, '3': 3724, '00': 3725, 'm': 3726, 'hurting': 3727, 'strip': 3728, 'joint': 3729, 'hormones': 3730, 'million': 3731, 'hopefully': 3732, 'pointing': 3733, 'caff': 3734, 'lincoln': 3735, 'survivor': 3736, 'defeated': 3737, 'explain': 3738, 'bridesmaids': 3739, 'keeping': 3740, 'presents': 3741, 'gorgeous': 3742, 'lamauge': 3743, \"'n'\": 3744, 'lo': 3745, 'realized': 3746, 'freaked': 3747, 'hit': 3748, 'looked': 3749, \"'why\": 3750, 'apart': 3751, 'invited': 3752, 'soap': 3753, 'pipe': 3754, 'organ': 3755, 'tuna': 3756, 'egg': 3757, 'salad': 3758, 'christine': 3759, 're': 3760, 'pushed': 3761, 'cheers': 3762, 'stopped': 3763, \"'what\": 3764, 'metaphor': 3765, \"he'd\": 3766, 'established': 3767, 'decision': 3768, 'breating': 3769, 'raindrops': 3770, 'roses': 3771, 'kittens': 3772, 'bluebells': 3773, 'sleighbells': 3774, 'mittens': 3775, 'grins': 3776, 'helped': 3777, \"'hat'\": 3778, 'comforting': 3779, 'rule': 3780, 'buzzer': 3781, 'horrible': 3782, '30': 3783, \"date'\": 3784, 'dear': 3785, 'diary': 3786, 'cancel': 3787, 'choked': 3788, 'horrified': 3789, 'normal': 3790, 'sell': 3791, 'complain': 3792, 'wandering': 3793, 'eyelashes': 3794, 'rub': 3795, 'spot': 3796, 'bedroom': 3797, 'headed': 3798, 'year': 3799, 'lizards': 3800, 'excited': 3801, 'hang': 3802, 'showers': 3803, 'wondrous': 3804, 'pigeon': 3805, 'crapping': 3806, 'squatting': 3807, 'attach': 3808, 'side': 3809, 'worm': 3810, 'whim': 3811, 'whatsoever': 3812, 'leftover': 3813, \"'l'\": 3814, 'bracket': 3815, 'checks': 3816, 'dumps': 3817, 'finished': 3818, 'clutching': 3819, 'sniffing': 3820, 'drank': 3821, 'spoil': 3822, 'stereo': 3823, 'screwed': 3824, 'idiot': 3825, 'dentist': 3826, 'week': 3827, 'teeth': 3828, \"brother's\": 3829, 'mess': 3830, 'accidentally': 3831, 'hers': 3832, 'leg': 3833, 'broke': 3834, 'worst': 3835, 'shredded': 3836, \"boyfriend's\": 3837, 'bath': 3838, 'socks': 3839, 'ju': 3840, 'dials': 3841, 'incredibly': 3842, 'lucky': 3843, 'finkel': 3844, 'maching': 3845, 'redials': 3846, '26': 3847, 'collapses': 3848, 'lasted': 3849, 'longer': 3850, 'mento': 3851, 'closeness': 3852, 'ripped': 3853, 'scariest': 3854, 'unfortunately': 3855, \"'one\": 3856, \"woman'\": 3857, 'lots': 3858, 'rocky': 3859, 'bing': 3860, 'cherry': 3861, 'vanilla': 3862, \"'em\": 3863, 'jimmies': 3864, 'whipped': 3865, 'honestly': 3866, 'horny': 3867, 'freezer': 3868, 'spell': 3869, 'revelation': 3870, 'ev': 3871, 'sexually': 3872, 'spitting': 3873, 'shock': 3874, 'glad': 3875, 'smashed': 3876, 'loves': 3877, 'chaci': 3878, 'priest': 3879, 'louise': 3880, 'cunningham': 3881, 'charles': 3882, 'arcola': 3883, 'holy': 3884, 'matrimony': 3885, 'scornful': 3886, \"'billy\": 3887, \"hero'\": 3888, 'angela': 3889, \"angela's\": 3890, 'screamer': 3891, 'cats': 3892, 'june': 3893, 'congratulations': 3894, 'invade': 3895, 'poland': 3896, 'western': 3897, 'omelet': 3898, 'grimace': 3899, 'pour': 3900, 'lenny': 3901, 'squigy': 3902, 'closer': 3903, 'birthdays': 3904, 'graduations': 3905, 'barn': 3906, 'later': 3907, 'okayyy': 3908, 'input': 3909, 'actor': 3910, 'doubt': 3911, 'mostly': 3912, 'regional': 3913, \"reruns'\": 3914, 'pinocchio': 3915, 'theater': 3916, \"'look\": 3917, 'gippetto': 3918, 'burst': 3919, 'hanger': 3920, 'tony': 3921, 'demarco': 3922, 'feelings': 3923, 'hardly': 3924, 'selves': 3925, 'luck': 3926, 'florida': 3927, 'pushing': 3928, 'roz': 3929, 'parrot': 3930, 'snap': 3931, 'turtle': 3932, 'arm': 3933, 'assume': 3934, \"'to\": 3935, \"bed'\": 3936, 'sort': 3937, 'severe': 3938, 'emotional': 3939, 'massaging': 3940, 'sofa': 3941, 'trained': 3942, 'laughed': 3943, 'twelve': 3944, 'interviews': 3945, 'surprisingly': 3946, 'upbeat': 3947, 'john': 3948, 'sale': 3949, 'fifty': 3950, 'percent': 3951, \"boots'\": 3952, 'scissors': 3953, 'necessary': 3954, 'charging': 3955, 'anytime': 3956, 'fourteen': 3957, 'prison': 3958, 'ended': 3959, 'albino': 3960, 'windshields': 3961, 'port': 3962, 'authority': 3963, 'himself': 3964, 'aromatherapy': 3965, \"'anyway'\": 3966, 'jump': 3967, 'airplane': 3968, 'parachute': 3969, 'hide': 3970, 'poured': 3971, 'symbolic': 3972, 'gesture': 3973, 'closely': 3974, 'retailers': 3975, 'sucks': 3976, 'channel': 3977, 'broadcast': 3978, 'anthem': 3979, 'crash': 3980, 'stomps': 3981, 'crush': 3982, 'geeky': 3983, 'older': 3984, 'intense': 3985, 'vulnerability': 3986, 'factor': 3987, 'image': 3988, 'ahh': 3989, 'liza': 3990, 'minelli': 3991, \"y'serious\": 3992, 'absolutely': 3993, 'floyd': 3994, \"concert's\": 3995, 'car': 3996, 'awake': 3997, 'album': 3998, 'prehistoric': 3999, 'co': 4000, 'worker': 4001, 'mannequins': 4002, 'banging': 4003, 'mastodon': 4004, 'carpet': 4005, \"'gee\": 4006, \"glacier's\": 4007, 'close': 4008, 'outstide': 4009, 'ignore': 4010, 'extis': 4011, 'stands': 4012, 'erect': 4013, \"marty's\": 4014, 'paranoid': 4015, 'episode': 4016, 'misunderstanding': 4017, 'swallowing': 4018, 'slowed': 4019, 'wrote': 4020, 'realised': 4021, 'balled': 4022, 'glaring': 4023, 'ammunition': 4024, 'cruel': 4025, 'parent': 4026, 'flatness': 4027, \"child's\": 4028, 'scaring': 4029, 'concerned': 4030, \"y'see\": 4031, 'prince': 4032, 'apparently': 4033, 'ceremony': 4034, 'ugly': 4035, 'thighmaster': 4036, 'eeaagh': 4037, 'dreading': 4038, \"'hi\": 4039, 'veil': 4040, 'stomped': 4041, 'harder': 4042, \"when'd'ya\": 4043, 'doy': 4044, \"'doy'\": 4045, 'dinah': 4046, 'realizes': 4047, 'ohhhhh': 4048, 'examin': 4049, 'pan': 4050, 'straight': 4051, 'boys': 4052, 'perspective': 4053, 'fit': 4054, 'comfortable': 4055, \"'involved'\": 4056, 'presumably': 4057, 'ruined': 4058, 'pouring': 4059, 'martha': 4060, \"ludwin's\": 4061, 'daughter': 4062, 'tastes': 4063, 'snack': 4064, 'mmmm': 4065, 'ludwins': 4066, 'aw': 4067, 'graduated': 4068, 'cooking': 4069, 'multiple': 4070, 'earlier': 4071, 'unbelievably': 4072, 'selfish': 4073, 'planning': 4074, 'bringing': 4075, 'ran': 4076, 'forty': 4077, 'independent': 4078, 'chubby': 4079, 'puzzles': 4080, 'papers': 4081, \"'our\": 4082, \"harmonica'\": 4083, 'desperately': 4084, 'digs': 4085, 'elbow': 4086, 'anecdotes': 4087, 'raise': 4088, 'pros': 4089, 'career': 4090, 'imaginary': 4091, 'preferred': 4092, 'bathroom': 4093, 'broom': 4094, 'sweep': 4095, 'recently': 4096, \"'dumped'\": 4097, 'chances': 4098, 'shell': 4099, 'terrific': 4100, 'stool': 4101, 'stuck': 4102, 'dinosaur': 4103, 'forget': 4104, 'supportive': 4105, 'surgical': 4106, 'instrament': 4107, 'mimes': 4108, 'duck': 4109, 'cervix': 4110, 'horror': 4111, 'patient': 4112, \"robbie's\": 4113, 'doin': 4114, 'bernice': 4115, 'farber': 4116, \"greenstein's\": 4117, 'gagging': 4118, 'answering': 4119, 'sec': 4120, 'decisions': 4121, \"'for\": 4122, \"instance'\": 4123, \"baby's\": 4124, 'spend': 4125, 'punches': 4126, \"julia's\": 4127, 'makeup': 4128, 'mirror': 4129, 'lamp': 4130, 'tanned': 4131, 'maid': 4132, 'honour': 4133, 'forehand': 4134, 'plugs': 4135, 'lenses': 4136, 'sticking': 4137, 'month': 4138, 'belongs': 4139, 'arguing': 4140, 'talked': 4141, 'title': 4142, 'sperm': 4143, 'challenge': 4144, 'nonononono': 4145, 'names': 4146, \"they'll\": 4147, 'nausea': 4148, 'lie': 4149, 'catches': 4150, 'hes': 4151, 'ear': 4152, 'attack': 4153, 'enterprise': 4154, 'tilt': 4155, 'saw': 4156, 'hairline': 4157, 'slams': 4158, 'cheap': 4159, 'jeffrey': 4160, 'astrof': 4161, 'mike': 4162, 'sikowitz': 4163, 'ouch': 4164, 'translated': 4165, \"'you\": 4166, \"naked'\": 4167, \"'it's\": 4168, \"'it\": 4169, \"guy'\": 4170, \"'i'm\": 4171, 'alcoholics': 4172, 'complaining': 4173, \"people'\": 4174, \"'ha\": 4175, \"am'\": 4176, 'blow': 4177, \"millners'\": 4178, 'connecticut': 4179, 'millners': 4180, 'horses': 4181, 'chase': 4182, 'helping': 4183, 'rehearse': 4184, 'knowing': 4185, 'warden': 4186, 'sent': 4187, 'honest': 4188, 'pack': 4189, 'fumbles': 4190, 'cigarett': 4191, 'coughs': 4192, 'smokes': 4193, 'wrist': 4194, 'limp': 4195, 'visibly': 4196, 'winces': 4197, 'missing': 4198, \"y'miss\": 4199, 'nah': 4200, 'stretch': 4201, 'fingers': 4202, 'ridiculous': 4203, 'carrying': 4204, 'tray': 4205, 'handing': 4206, 'decaf': 4207, 'cappucino': 4208, 'iced': 4209, 'tea': 4210, 'excellent': 4211, 'swaps': 4212, \"y'okay\": 4213, 'monthly': 4214, 'statement': 4215, \"satan's\": 4216, 'minions': 4217, 'earn': 4218, 'stealing': 4219, 'skipping': 4220, \"mine'\": 4221, 'sight': 4222, 'karmic': 4223, 'debt': 4224, 'puling': 4225, 'shrug': 4226, 'nonchalantly': 4227, 'exhale': 4228, 'mouthful': 4229, 'reward': 4230, \"phoebe's\": 4231, \"goin'\": 4232, \"'s'going\": 4233, 'monday': 4234, 'steve': 4235, 'schhexy': 4236, 'nope': 4237, 'schhorry': 4238, 'members': 4239, 'herd': 4240, 'beef': 4241, 'terrible': 4242, 'liked': 4243, 'odds': 4244, 'happening': 4245, 'slimmer': 4246, 'shouts': 4247, \"'cross\": 4248, \"heart'\": 4249, 'taps': 4250, 'tipped': 4251, 'sulkilty': 4252, 'garbage': 4253, 'lid': 4254, 'letter': 4255, \"'dear\": 4256, 'ms': 4257, 'buffay': 4258, 'error': 4259, 'credited': 4260, 'inconvenience': 4261, 'buzzes': 4262, 'dripping': 4263, 'heard': 4264, 'schho': 4265, 'guyschh': 4266, 'bashing': 4267, 'begin': 4268, 'notice': 4269, 'spreads': 4270, 'nursery': 4271, 'rhyme': 4272, \"'there\": 4273, 'yardstick': 4274, 'measured': 4275, 'nono': 4276, 'th': 4277, 'hasselhof': 4278, 'parties': 4279, 'dejectedly': 4280, 'gear': 4281, 'fantastic': 4282, 'cartoon': 4283, 'yep': 4284, 'showed': 4285, 'hassidic': 4286, 'jewellers': 4287, \"d'you\": 4288, 'innate': 4289, 'ness': 4290, 'adore': 4291, 'personally': 4292, 'gallon': 4293, 'homeless': 4294, 'alphabet': 4295, 'soup': 4296, 'vowels': 4297, 'ys': 4298, 'y': 4299, 'saltines': 4300, 'tin': 4301, 'foil': 4302, 'types': 4303, 'paying': 4304, 'squirt': 4305, 'gags': 4306, 'vendor': 4307, 'pretzel': 4308, 'reacts': 4309, 'eww': 4310, 'hitch': 4311, 'contest': 4312, 'collect': 4313, 'flaw': 4314, 'pronouncing': 4315, 'snort': 4316, 'awkward': 4317, 'bother': 4318, 'chews': 4319, 'endearing': 4320, 'snorts': 4321, 'indeed': 4322, 'ho': 4323, 'hooohhh': 4324, 'gloves': 4325, 'degenerate': 4326, 'bickering': 4327, 'happily': 4328, 'undisturbed': 4329, 'honey': 4330, 'dump': 4331, 'worried': 4332, 'cental': 4333, 'persecuting': 4334, 'respect': 4335, 'emphysema': 4336, 'disease': 4337, 'gee': 4338, 'stubs': 4339, 'wandered': 4340, 'everyond': 4341, 'thirty': 4342, \"it'd\": 4343, \"somebody's\": 4344, 'ate': 4345, 'stick': 4346, 'fetch': 4347, \"y'go\": 4348, 'stupid': 4349, 'stepped': 4350, 'dragged': 4351, 'gotten': 4352, 'shower': 4353, 'nicer': 4354, 'wear': 4355, 'underwear': 4356, 'hurriedly': 4357, 'closes': 4358, 'deja': 4359, 'vu': 4360, 'decided': 4361, 'gasp': 4362, 'clutch': 4363, 'somebody': 4364, 'nononono': 4365, 'guard': 4366, 'chewing': 4367, 'tearful': 4368, 'holidays': 4369, \"there'll\": 4370, 'alans': 4371, 'mopping': 4372, 'rented': 4373, 'boats': 4374, 'row': 4375, 'strokes': 4376, 'forehead': 4377, \"game's\": 4378, 'alexa': 4379, 'junge': 4380, 'peace': 4381, 'hunger': 4382, 'bigger': 4383, 'boobs': 4384, 'mocking': 4385, 'wishes': 4386, 'reason': 4387, 'waking': 4388, 'startling': 4389, 'nodded': 4390, 'boyfriend': 4391, 'insecure': 4392, 'bed': 4393, 'deaf': 4394, 'reassure': 4395, 'counting': 4396, 'six': 4397, 'waaaay': 4398, 'tickets': 4399, 'rangers': 4400, 'penguins': 4401, 'kisses': 4402, 'months': 4403, \"aren't\": 4404, 'empty': 4405, 'october': 4406, 'eleven': 4407, 'halloween': 4408, 'consummated': 4409, 'puzzled': 4410, 'lover': 4411, \"guys'\": 4412, 'stomach': 4413, 'cluching': 4414, 'mines': 4415, 'dairy': 4416, 'queen': 4417, 'earned': 4418, 'wiped': 4419, 'tables': 4420, 'steamed': 4421, 'milk': 4422, 'totally—': 4423, '—not': 4424, 'worth': 4425, \"why's\": 4426, 'service': 4427, 'wallets': 4428, 'generous': 4429, 'tips': 4430, 'blocked': 4431, 'swear': 4432, 'aaand': 4433, 'apron': 4434, 'duplex': 4435, 'partner': 4436, 'firm': 4437, 'elbows': 4438, 'kicking': 4439, 'poulet': 4440, 'spots': 4441, 'crease': 4442, 'kicks': 4443, 'brief': 4444, \"women's\": 4445, \"took'em\": 4446, 'whines': 4447, 'peaches': 4448, 'nectarines': 4449, 'bus': 4450, \"woman's\": 4451, 'ass': 4452, 'lesile': 4453, 'dirt': 4454, 'dumping': 4455, 'write': 4456, 'board': 4457, 'flowers': 4458, 'vase': 4459, 'artelle': 4460, 'chocolate': 4461, 'cookies': 4462, 'pajamas': 4463, 'tiki': 4464, 'death': 4465, 'pours': 4466, 'glasses': 4467, 'weeeell': 4468, 'rum': 4469, 'trashy': 4470, 'magazines': 4471, 'operation': 4472, 'tweezers': 4473, 'operate': 4474, 'prep': 4475, 'reference': 4476, 'pauses': 4477, 'squeezing': 4478, 'plastic': 4479, 'pittsburgh': 4480, 'fans': 4481, 'frost': 4482, 'downstairs': 4483, 'beanstalk': 4484, 'woke': 4485, \"everything's\": 4486, 'yesss': 4487, 'toothless': 4488, 'sticks': 4489, 'player': 4490, 'shoots': 4491, 'flies': 4492, 'rink': 4493, 'concered': 4494, 'notices': 4495, 'wave': 4496, \"'scuse\": 4497, 'hand—she': 4498, 'candy': 4499, 'bar': 4500, 'predicament': 4501, 'fill': 4502, 'jumping': 4503, 'dented': 4504, 'heyy': 4505, \"'pl'\": 4506, 'mushroom': 4507, 'pepper': 4508, 'onion': 4509, 'fat': 4510, 'crust': 4511, 'cheese': 4512, 'leaping': 4513, 'curiously': 4514, 'suit': 4515, 'tie': 4516, 'staggered': 4517, \"stephanopoulos'\": 4518, 'snuffalopagus': 4519, \"bird's\": 4520, 'spying': 4521, 'white': 4522, 'house': 4523, 'adviser': 4524, \"clinton's\": 4525, 'campaign': 4526, 'sexy': 4527, 'bitch': 4528, 'miming': 4529, 'pucks': 4530, 'kitting': 4531, 'foreheads': 4532, 'sick': 4533, 'toe': 4534, 'gladd': 4535, 'talks': 4536, 'dora': 4537, 'ba': 4538, 'napping': 4539, 'shy': 4540, 'draw': 4541, 'preppy': 4542, 'animal': 4543, 'moon': 4544, 'painkillers': 4545, 'louder': 4546, 'twelfth': 4547, 'coma': 4548, 'mumbles': 4549, 'one—': 4550, '—oh': 4551, 'mistake': 4552, 'vegetarian': 4553, 'pate': 4554, 'goose': 4555, 'vegetable': 4556, 'haaaah': 4557, 'hurley': 4558, \"you'd\": 4559, 'couple': 4560, 'leaning': 4561, 'falls': 4562, 'valentine': 4563, 'tommy': 4564, 'rollerson': 4565, 'locker': 4566, \"'big\": 4567, \"girls'\": 4568, 'seventh': 4569, 'grade': 4570, 'squabble': 4571, 'the—': 4572, '—wowww': 4573, 'freak': 4574, 'camera': 4575, 'piece': 4576, 'steel': 4577, 'bandaged': 4578, 'reception': 4579, 'attractive': 4580, 'lambs': 4581, 'admit': 4582, 'specifically': 4583, 'finders': 4584, 'keepers': 4585, 'losers': 4586, 'weepers': 4587, 'rubber': 4588, 'glue': 4589, 'whatever—': 4590, \"—can't\": 4591, \"'yes'\": 4592, 'er': 4593, 'snatch': 4594, 'grasp': 4595, 'knocks': 4596, 'spinning': 4597, 'foot': 4598, 'monopoly': 4599, 'nooooo': 4600, 'silently': 4601, 'bend': 4602, 'appreciatively': 4603, 'mat': 4604, 'aww': 4605, 'collapse': 4606, 'howled': 4607, 'banshee': 4608, 'desolate': 4609, 'alarian': 4610, 'whipping': 4611, 'cloak': 4612, 'billowed': 4613, 'banner': 4614, 'trudged': 4615, 'narrowed': 4616, 'clouded': 4617, 'fatigue': 4618, 'despair': 4619, 'weight': 4620, 'burden': 4621, 'pressed': 4622, 'heavily': 4623, 'alchemists': 4624, 'revered': 4625, 'mastery': 4626, 'ability': 4627, 'heal': 4628, 'ostracized': 4629, 'deemed': 4630, 'unpredictable': 4631, 'tyrannical': 4632, 'azrael': 4633, 'clutched': 4634, 'pouch': 4635, 'script': 4636, 'sustained': 4637, 'plunging': 4638, 'darkness': 4639, 'decay': 4640, 'lone': 4641, 'scales': 4642, 'shimmering': 4643, 'gold': 4644, 'slithered': 4645, 'forked': 4646, 'tongue': 4647, 'tasting': 4648, 'instinctively': 4649, 'silver': 4650, 'dagger': 4651, 'strapped': 4652, 'thigh': 4653, 'hammering': 4654, 'ribs': 4655, 'deadly': 4656, 'venom': 4657, 'liquefying': 4658, 'flesh': 4659, 'afford': 4660, 'panic': 4661, 'resourceful': 4662, 'advantage': 4663, 'channeling': 4664, 'sparked': 4665, 'fingertips': 4666, 'blazing': 4667, 'hurled': 4668, 'fireball': 4669, 'shrieked': 4670, 'agony': 4671, 'flames': 4672, 'engulfed': 4673, 'dissolving': 4674, 'dust': 4675, 'strike': 4676, 'exhausted': 4677, 'sank': 4678, 'knees': 4679, 'survived': 4680, 'fraught': 4681, 'peril': 4682, \"king's\": 4683, 'refused': 4684, 'rested': 4685, 'shoulders': 4686, 'bathing': 4687, 'resol': 4688, 'enchantment': 4689, 'seamlessly': 4690, 'everest': 4691, 'overload': 4692, 'contributing': 4693, 'fabric': 4694, 'hinduism': 4695, 'buddhism': 4696, 'harmoniously': 4697, 'evident': 4698, 'ornate': 4699, 'paint': 4700, 'fascinating': 4701, 'trekking': 4702, 'strolls': 4703, 'climbs': 4704, 'seasoned': 4705, 'mountaineer': 4706, 'casual': 4707, 'lovers': 4708, 'enthusiasts': 4709, 'boasting': 4710, '850': 4711, '180': 4712, 'mammals': 4713, 'chitwan': 4714, 'unesco': 4715, 'bengal': 4716, 'tiger': 4717, 'annapurna': 4718, 'conservation': 4719, 'area': 4720, 'glimpses': 4721, 'kathmandu': 4722, 'capital': 4723, 'souvenirs': 4724, 'clothing': 4725, 'buddhist': 4726, 'introspection': 4727, 'chanting': 4728, 'embracing': 4729, 'readily': 4730, 'chai': 4731, 'exhilarating': 4732, 'slow': 4733, 'reconnect': 4734, 'joys': 4735, 'spellbound': 4736, 'ragas': 4737, 'kissed': 4738, 'goa': 4739, 'bazaars': 4740, 'emanating': 4741, 'ghats': 4742, 'devotees': 4743, 'rituals': 4744, 'mughal': 4745, 'colonial': 4746, \"india's\": 4747, 'rural': 4748, 'farmers': 4749, 'till': 4750, 'sarees': 4751, 'gossip': 4752, 'banyan': 4753, 'clatter': 4754, 'handlooms': 4755, 'weaving': 4756, 'chapatis': 4757, 'wafts': 4758, 'brick': 4759, 'beckoning': 4760, 'meal': 4761, 'religion': 4762, 'existence': 4763, 'joyous': 4764, 'abandon': 4765, 'sunrise': 4766, 'faith': 4767, 'transcends': 4768, 'throughout': 4769, 'instrument': 4770, 'harmonizing': 4771, 'profane': 4772, 'ghosts': 4773, 'turbulent': 4774, 'york': 4775, 'california': 4776, 'founding': 4777, 'fathers': 4778, 'landmarks': 4779, 'built': 4780, 'ideals': 4781, 'liberty': 4782, 'justice': 4783, 'hums': 4784, 'restless': 4785, 'fueled': 4786, 'unyielding': 4787, 'ambition': 4788, 'concrete': 4789, 'entrepreneurial': 4790, 'engines': 4791, 'commerce': 4792, 'roar': 4793, 'fought': 4794, 'victories': 4795, 'freedoms': 4796, 'cherish': 4797, 'rockies': 4798, 'fertile': 4799, 'midwest': 4800, 'individualism': 4801, 'cowboy': 4802, 'vastness': 4803, 'inspires': 4804, 'ingrained': 4805, 'immigrant': 4806, 'melting': 4807, 'identity': 4808, 'unifying': 4809, 'fundamental': 4810, 'celebrates': 4811, 'successes': 4812, 'confronts': 4813, 'troubled': 4814, 'striving': 4815, 'union': 4816, 'vibrancy': 4817, 'kangaroos': 4818, 'koalas': 4819, 'boughs': 4820, 'eucalypts': 4821, 'barrier': 4822, 'reef': 4823, 'sandstone': 4824, 'monolith': 4825, 'uluru': 4826, 'awestruck': 4827, 'laid': 4828, 'aussie': 4829, 'surfers': 4830, 'riding': 4831, 'campfire': 4832, 'gatherings': 4833, 'sydney': 4834, 'melbourne': 4835, 'cosmopolitan': 4836, 'vibes': 4837, 'sophistication': 4838, 'dreamtime': 4839, 'adorning': 4840, 'didgeridoo': 4841, 'artistry': 4842, 'dot': 4843, \"melbourne's\": 4844, 'expressions': 4845, 'queensland': 4846, 'kimberley': 4847, 'hike': 4848, 'sculpted': 4849, 'kayak': 4850, 'crystal': 4851, 'seeker': 4852, 'reveals': 4853, 'joining': 4854, 'cricket': 4855, 'beach': 4856, 'australians': 4857, 'desire': 4858, 'vacation': 4859, 'stays': 4860, 'awakens': 4861, 'ignites': 4862, 'medieval': 4863, 'towns': 4864, 'knights': 4865, 'thriving': 4866, \"bach's\": 4867, 'compositions': 4868, 'goethe': 4869, 'schiller': 4870, 'countryside': 4871, 'yield': 4872, 'slower': 4873, 'coffees': 4874, 'savored': 4875, 'culinary': 4876, 'boisterous': 4877, 'celebration': 4878, 'resonates': 4879, 'eco': 4880, 'freiburg': 4881, 'advancements': 4882, 'celebrating': 4883, 'christmas': 4884, 'enthusiasm': 4885, 'pyrenees': 4886, 'shimmers': 4887, 'earthy': 4888, 'rioja': 4889, 'guitars': 4890, 'weave': 4891, 'squares': 4892, 'alleyways': 4893, 'conquistadors': 4894, 'mingling': 4895, 'bullfighters': 4896, 'modernity': 4897, 'gothic': 4898, 'sagrada': 4899, 'familia': 4900, 'genius': 4901, 'masterpieces': 4902, 'gaudí': 4903, 'picasso': 4904, 'adorn': 4905, 'ceramics': 4906, 'dresses': 4907, 'tapas': 4908, 'tantalize': 4909, 'buds': 4910, 'revelers': 4911, 'alleys': 4912, 'nightlife': 4913, 'famed': 4914, 'coastlines': 4915, 'turquoise': 4916, 'lap': 4917, 'olive': 4918, 'legacy': 4919, 'andalusia': 4920, 'rhythms': 4921, 'moorish': 4922, 'bullfighting': 4923, 'arenas': 4924, 'matadors': 4925, 'kaleidoscope': 4926, 'feast': 4927, 'celtic': 4928, 'arabic': 4929, 'instruments': 4930, 'musical': 4931, 'catalan': 4932, 'basque': 4933, 'dominant': 4934, 'country': 4935, 'sandy': 4936, 'rhythm': 4937, 'captive': 4938, 'irresistible': 4939, 'europe': 4940, 'pierce': 4941, 'hilltops': 4942, 'silent': 4943, 'guardians': 4944, 'bygone': 4945, 'pulse': 4946, 'waltz': 4947, 'evokes': 4948, 'showcase': 4949, 'scientific': 4950, 'brothers': 4951, \"grimm's\": 4952, 'fairytales': 4953, 'amongst': 4954, 'congo': 4955, 'basin': 4956, 'spirits': 4957, 'vibrates': 4958, 'drums': 4959, 'kingdoms': 4960, 'crumbling': 4961, 'triumph': 4962, 'savannas': 4963, 'silhouette': 4964, 'acacia': 4965, 'framing': 4966, 'herds': 4967, 'wildebeest': 4968, 'migration': 4969, 'paints': 4970, 'dips': 4971, 'igniting': 4972, 'chimpanzees': 4973, 'swing': 4974, 'birdsong': 4975, 'pulsates': 4976, 'cairo': 4977, 'maasai': 4978, 'mara': 4979, 'zest': 4980, 'marketplaces': 4981, 'haggling': 4982, 'fabrics': 4983, 'wares': 4984, 'tempt': 4985, 'evenings': 4986, 'crackling': 4987, 'fires': 4988, 'meals': 4989, 'empowers': 4990, 'minds': 4991, 'tackles': 4992, 'unity': 4993}\n"
          ]
        }
      ]
    },
    {
      "cell_type": "markdown",
      "source": [
        "vocab size \" vocab_size\"  Here size is 4993"
      ],
      "metadata": {
        "id": "yRVi7isHvEX3"
      }
    },
    {
      "cell_type": "code",
      "source": [
        "\n",
        "vocabsize= len(vocab)\n",
        "print(vocabsize)"
      ],
      "metadata": {
        "colab": {
          "base_uri": "https://localhost:8080/"
        },
        "id": "V96_AoiC4kRA",
        "outputId": "a5965ffd-9b2c-4545-a431-d97d2ca9e73c"
      },
      "execution_count": 9,
      "outputs": [
        {
          "output_type": "stream",
          "name": "stdout",
          "text": [
            "4993\n"
          ]
        }
      ]
    },
    {
      "cell_type": "markdown",
      "source": [
        "1.Splitting data into sentences on basis of tab seperation\n"
      ],
      "metadata": {
        "id": "Xj8jdlQjvzSG"
      }
    },
    {
      "cell_type": "markdown",
      "source": [
        "2.Generating InputSequences coresponding to each sentences"
      ],
      "metadata": {
        "id": "DTSOmKClwvL4"
      }
    },
    {
      "cell_type": "code",
      "source": [
        "input_seq=  []\n",
        "\n",
        "#splitting sentences\n",
        "for sentences in df.split(\"\\n\"):\n",
        "   tokenized_sentences= tokenizer.texts_to_sequences([sentences])[0]             #tokenizng_senteces\n",
        "          #storing tokenized sentences into a inputseq list\n",
        "   for i in range(1,len(tokenized_sentences)):\n",
        "    input_seq.append(tokenized_sentences[:i+1])\n",
        "\n",
        "\n",
        "\n",
        "\n",
        "print(input_seq[: 20])\n",
        "\n"
      ],
      "metadata": {
        "colab": {
          "base_uri": "https://localhost:8080/"
        },
        "id": "9-cma7Hzv7jl",
        "outputId": "3d15b2d3-2782-422c-c705-3d359c5cf20a"
      },
      "execution_count": 10,
      "outputs": [
        {
          "output_type": "stream",
          "name": "stdout",
          "text": [
            "[[1, 155], [1, 155, 21], [1, 155, 21, 2368], [1, 155, 21, 2368, 1549], [1, 155, 21, 2368, 1549, 8], [1, 155, 21, 2368, 1549, 8, 1], [1, 155, 21, 2368, 1549, 8, 1, 422], [1, 155, 21, 2368, 1549, 8, 1, 422, 692], [1, 155, 21, 2368, 1549, 8, 1, 422, 692, 215], [1, 155, 21, 2368, 1549, 8, 1, 422, 692, 215, 2], [1, 155, 21, 2368, 1549, 8, 1, 422, 692, 215, 2, 3], [1, 155, 21, 2368, 1549, 8, 1, 422, 692, 215, 2, 3, 2369], [1, 155, 21, 2368, 1549, 8, 1, 422, 692, 215, 2, 3, 2369, 1550], [1, 155, 21, 2368, 1549, 8, 1, 422, 692, 215, 2, 3, 2369, 1550, 2370], [1, 155, 21, 2368, 1549, 8, 1, 422, 692, 215, 2, 3, 2369, 1550, 2370, 1], [1, 155, 21, 2368, 1549, 8, 1, 422, 692, 215, 2, 3, 2369, 1550, 2370, 1, 423], [1, 155, 21, 2368, 1549, 8, 1, 422, 692, 215, 2, 3, 2369, 1550, 2370, 1, 423, 4], [1, 155, 21, 2368, 1549, 8, 1, 422, 692, 215, 2, 3, 2369, 1550, 2370, 1, 423, 4, 1], [1, 155, 21, 2368, 1549, 8, 1, 422, 692, 215, 2, 3, 2369, 1550, 2370, 1, 423, 4, 1, 1142], [1, 155, 21, 2368, 1549, 8, 1, 422, 692, 215, 2, 3, 2369, 1550, 2370, 1, 423, 4, 1, 1142, 491]]\n"
          ]
        }
      ]
    },
    {
      "cell_type": "markdown",
      "source": [
        "**Zeropadding**"
      ],
      "metadata": {
        "id": "Y8GGiVEV0Qpu"
      }
    },
    {
      "cell_type": "markdown",
      "source": [
        "\n",
        "Since every sentence has diff len thus their token has too : making them of even len by zero padding\n"
      ],
      "metadata": {
        "id": "xizAxU-d0FBp"
      }
    },
    {
      "cell_type": "code",
      "source": [
        "# Finding max length of tokeinzed sentence\n",
        "max_len = max([len(x) for x in input_seq])\n",
        "print(max_len)\n",
        "\n",
        "#zeropadding\n",
        "padded_input_seq= pad_sequences(input_seq, maxlen=max_len, padding ='pre')\n",
        "print(padded_input_seq[:10])"
      ],
      "metadata": {
        "colab": {
          "base_uri": "https://localhost:8080/"
        },
        "id": "1Fmo1DoE1AfY",
        "outputId": "8f641416-d10e-4912-9743-bf9a35001396"
      },
      "execution_count": 11,
      "outputs": [
        {
          "output_type": "stream",
          "name": "stdout",
          "text": [
            "325\n",
            "[[   0    0    0 ...    0    1  155]\n",
            " [   0    0    0 ...    1  155   21]\n",
            " [   0    0    0 ...  155   21 2368]\n",
            " ...\n",
            " [   0    0    0 ...    1  422  692]\n",
            " [   0    0    0 ...  422  692  215]\n",
            " [   0    0    0 ...  692  215    2]]\n"
          ]
        }
      ]
    },
    {
      "cell_type": "markdown",
      "source": [
        "Splitting the Padded input sequences into **X: Training seq , Y: Corresponding output(from: discreate number)**"
      ],
      "metadata": {
        "id": "r6MdlAPd9svN"
      }
    },
    {
      "cell_type": "code",
      "source": [
        "x = padded_input_seq[:, :-1]\n",
        "y = padded_input_seq[: ,-1]\n",
        "\n",
        "#####coresponding shape of X and Y\n",
        "\n",
        "\n",
        "print(x.shape)\n",
        "\n",
        "print(y.shape)"
      ],
      "metadata": {
        "colab": {
          "base_uri": "https://localhost:8080/"
        },
        "id": "RMlBFb9k-N1l",
        "outputId": "22c4c95e-debc-4c21-c768-f9265609a7df"
      },
      "execution_count": 12,
      "outputs": [
        {
          "output_type": "stream",
          "name": "stdout",
          "text": [
            "(26383, 324)\n",
            "(26383,)\n"
          ]
        }
      ]
    },
    {
      "cell_type": "markdown",
      "source": [
        "Now y has to be **one hot encoded** so that disreate-> each array row of length = len of vocab"
      ],
      "metadata": {
        "id": "rUsh7KnS_uMf"
      }
    },
    {
      "cell_type": "code",
      "source": [
        "y= to_categorical(y, num_classes= vocabsize +1) ##since one hot encoding start ferom 0 but token from 1\n",
        "                                              ##so to takelast token into one hot it must be of vocablen+1\n",
        "print(y.shape)\n"
      ],
      "metadata": {
        "colab": {
          "base_uri": "https://localhost:8080/"
        },
        "id": "cfwA2TmF-0mr",
        "outputId": "d94f552c-f4fe-4eca-f815-8eeb999fb9e9"
      },
      "execution_count": 13,
      "outputs": [
        {
          "output_type": "stream",
          "name": "stdout",
          "text": [
            "(26383, 4994)\n"
          ]
        }
      ]
    },
    {
      "cell_type": "markdown",
      "source": [
        "**LSTM Model_architecture**  **Training**"
      ],
      "metadata": {
        "id": "mVQOMBRUGPa1"
      }
    },
    {
      "cell_type": "code",
      "source": [
        "model=Sequential()\n",
        "model.add(Embedding(4994, 100, input_length=324))\n",
        "model.add(LSTM(128))\n",
        "model.add(Dense(4994, activation='softmax'))\n",
        "\n",
        "model.compile(loss=\"binary_crossentropy\", optimizer= \"adam\", metrics=[\"accuracy\"] )\n",
        "model.summary()"
      ],
      "metadata": {
        "colab": {
          "base_uri": "https://localhost:8080/",
          "height": 225
        },
        "id": "u86b-0KZGVLA",
        "outputId": "4417215b-4221-45c2-fcc8-81ff692bd261"
      },
      "execution_count": 14,
      "outputs": [
        {
          "output_type": "display_data",
          "data": {
            "text/plain": [
              "\u001b[1mModel: \"sequential\"\u001b[0m\n"
            ],
            "text/html": [
              "<pre style=\"white-space:pre;overflow-x:auto;line-height:normal;font-family:Menlo,'DejaVu Sans Mono',consolas,'Courier New',monospace\"><span style=\"font-weight: bold\">Model: \"sequential\"</span>\n",
              "</pre>\n"
            ]
          },
          "metadata": {}
        },
        {
          "output_type": "display_data",
          "data": {
            "text/plain": [
              "┏━━━━━━━━━━━━━━━━━━━━━━━━━━━━━━━━━┳━━━━━━━━━━━━━━━━━━━━━━━━┳━━━━━━━━━━━━━━━┓\n",
              "┃\u001b[1m \u001b[0m\u001b[1mLayer (type)                   \u001b[0m\u001b[1m \u001b[0m┃\u001b[1m \u001b[0m\u001b[1mOutput Shape          \u001b[0m\u001b[1m \u001b[0m┃\u001b[1m \u001b[0m\u001b[1m      Param #\u001b[0m\u001b[1m \u001b[0m┃\n",
              "┡━━━━━━━━━━━━━━━━━━━━━━━━━━━━━━━━━╇━━━━━━━━━━━━━━━━━━━━━━━━╇━━━━━━━━━━━━━━━┩\n",
              "│ embedding (\u001b[38;5;33mEmbedding\u001b[0m)           │ ?                      │   \u001b[38;5;34m0\u001b[0m (unbuilt) │\n",
              "├─────────────────────────────────┼────────────────────────┼───────────────┤\n",
              "│ lstm (\u001b[38;5;33mLSTM\u001b[0m)                     │ ?                      │   \u001b[38;5;34m0\u001b[0m (unbuilt) │\n",
              "├─────────────────────────────────┼────────────────────────┼───────────────┤\n",
              "│ dense (\u001b[38;5;33mDense\u001b[0m)                   │ ?                      │   \u001b[38;5;34m0\u001b[0m (unbuilt) │\n",
              "└─────────────────────────────────┴────────────────────────┴───────────────┘\n"
            ],
            "text/html": [
              "<pre style=\"white-space:pre;overflow-x:auto;line-height:normal;font-family:Menlo,'DejaVu Sans Mono',consolas,'Courier New',monospace\">┏━━━━━━━━━━━━━━━━━━━━━━━━━━━━━━━━━┳━━━━━━━━━━━━━━━━━━━━━━━━┳━━━━━━━━━━━━━━━┓\n",
              "┃<span style=\"font-weight: bold\"> Layer (type)                    </span>┃<span style=\"font-weight: bold\"> Output Shape           </span>┃<span style=\"font-weight: bold\">       Param # </span>┃\n",
              "┡━━━━━━━━━━━━━━━━━━━━━━━━━━━━━━━━━╇━━━━━━━━━━━━━━━━━━━━━━━━╇━━━━━━━━━━━━━━━┩\n",
              "│ embedding (<span style=\"color: #0087ff; text-decoration-color: #0087ff\">Embedding</span>)           │ ?                      │   <span style=\"color: #00af00; text-decoration-color: #00af00\">0</span> (unbuilt) │\n",
              "├─────────────────────────────────┼────────────────────────┼───────────────┤\n",
              "│ lstm (<span style=\"color: #0087ff; text-decoration-color: #0087ff\">LSTM</span>)                     │ ?                      │   <span style=\"color: #00af00; text-decoration-color: #00af00\">0</span> (unbuilt) │\n",
              "├─────────────────────────────────┼────────────────────────┼───────────────┤\n",
              "│ dense (<span style=\"color: #0087ff; text-decoration-color: #0087ff\">Dense</span>)                   │ ?                      │   <span style=\"color: #00af00; text-decoration-color: #00af00\">0</span> (unbuilt) │\n",
              "└─────────────────────────────────┴────────────────────────┴───────────────┘\n",
              "</pre>\n"
            ]
          },
          "metadata": {}
        },
        {
          "output_type": "display_data",
          "data": {
            "text/plain": [
              "\u001b[1m Total params: \u001b[0m\u001b[38;5;34m0\u001b[0m (0.00 B)\n"
            ],
            "text/html": [
              "<pre style=\"white-space:pre;overflow-x:auto;line-height:normal;font-family:Menlo,'DejaVu Sans Mono',consolas,'Courier New',monospace\"><span style=\"font-weight: bold\"> Total params: </span><span style=\"color: #00af00; text-decoration-color: #00af00\">0</span> (0.00 B)\n",
              "</pre>\n"
            ]
          },
          "metadata": {}
        },
        {
          "output_type": "display_data",
          "data": {
            "text/plain": [
              "\u001b[1m Trainable params: \u001b[0m\u001b[38;5;34m0\u001b[0m (0.00 B)\n"
            ],
            "text/html": [
              "<pre style=\"white-space:pre;overflow-x:auto;line-height:normal;font-family:Menlo,'DejaVu Sans Mono',consolas,'Courier New',monospace\"><span style=\"font-weight: bold\"> Trainable params: </span><span style=\"color: #00af00; text-decoration-color: #00af00\">0</span> (0.00 B)\n",
              "</pre>\n"
            ]
          },
          "metadata": {}
        },
        {
          "output_type": "display_data",
          "data": {
            "text/plain": [
              "\u001b[1m Non-trainable params: \u001b[0m\u001b[38;5;34m0\u001b[0m (0.00 B)\n"
            ],
            "text/html": [
              "<pre style=\"white-space:pre;overflow-x:auto;line-height:normal;font-family:Menlo,'DejaVu Sans Mono',consolas,'Courier New',monospace\"><span style=\"font-weight: bold\"> Non-trainable params: </span><span style=\"color: #00af00; text-decoration-color: #00af00\">0</span> (0.00 B)\n",
              "</pre>\n"
            ]
          },
          "metadata": {}
        }
      ]
    },
    {
      "cell_type": "code",
      "source": [
        "model.fit(x,y,epochs=150)"
      ],
      "metadata": {
        "colab": {
          "base_uri": "https://localhost:8080/"
        },
        "id": "W1YV7ZleIrRk",
        "outputId": "9bf1dcee-31cb-4740-d610-2a56c8df63fd"
      },
      "execution_count": 15,
      "outputs": [
        {
          "output_type": "stream",
          "name": "stdout",
          "text": [
            "Epoch 1/150\n",
            "\u001b[1m825/825\u001b[0m \u001b[32m━━━━━━━━━━━━━━━━━━━━\u001b[0m\u001b[37m\u001b[0m \u001b[1m18s\u001b[0m 15ms/step - accuracy: 0.0404 - loss: 0.0797\n",
            "Epoch 2/150\n",
            "\u001b[1m825/825\u001b[0m \u001b[32m━━━━━━━━━━━━━━━━━━━━\u001b[0m\u001b[37m\u001b[0m \u001b[1m12s\u001b[0m 15ms/step - accuracy: 0.0468 - loss: 0.0017\n",
            "Epoch 3/150\n",
            "\u001b[1m825/825\u001b[0m \u001b[32m━━━━━━━━━━━━━━━━━━━━\u001b[0m\u001b[37m\u001b[0m \u001b[1m21s\u001b[0m 15ms/step - accuracy: 0.0521 - loss: 0.0016\n",
            "Epoch 4/150\n",
            "\u001b[1m825/825\u001b[0m \u001b[32m━━━━━━━━━━━━━━━━━━━━\u001b[0m\u001b[37m\u001b[0m \u001b[1m20s\u001b[0m 15ms/step - accuracy: 0.0486 - loss: 0.0016\n",
            "Epoch 5/150\n",
            "\u001b[1m825/825\u001b[0m \u001b[32m━━━━━━━━━━━━━━━━━━━━\u001b[0m\u001b[37m\u001b[0m \u001b[1m20s\u001b[0m 15ms/step - accuracy: 0.0498 - loss: 0.0016\n",
            "Epoch 6/150\n",
            "\u001b[1m825/825\u001b[0m \u001b[32m━━━━━━━━━━━━━━━━━━━━\u001b[0m\u001b[37m\u001b[0m \u001b[1m20s\u001b[0m 15ms/step - accuracy: 0.0486 - loss: 0.0016\n",
            "Epoch 7/150\n",
            "\u001b[1m825/825\u001b[0m \u001b[32m━━━━━━━━━━━━━━━━━━━━\u001b[0m\u001b[37m\u001b[0m \u001b[1m21s\u001b[0m 16ms/step - accuracy: 0.0497 - loss: 0.0016\n",
            "Epoch 8/150\n",
            "\u001b[1m825/825\u001b[0m \u001b[32m━━━━━━━━━━━━━━━━━━━━\u001b[0m\u001b[37m\u001b[0m \u001b[1m21s\u001b[0m 16ms/step - accuracy: 0.0502 - loss: 0.0016\n",
            "Epoch 9/150\n",
            "\u001b[1m825/825\u001b[0m \u001b[32m━━━━━━━━━━━━━━━━━━━━\u001b[0m\u001b[37m\u001b[0m \u001b[1m20s\u001b[0m 15ms/step - accuracy: 0.0505 - loss: 0.0016\n",
            "Epoch 10/150\n",
            "\u001b[1m825/825\u001b[0m \u001b[32m━━━━━━━━━━━━━━━━━━━━\u001b[0m\u001b[37m\u001b[0m \u001b[1m21s\u001b[0m 15ms/step - accuracy: 0.0492 - loss: 0.0016\n",
            "Epoch 11/150\n",
            "\u001b[1m825/825\u001b[0m \u001b[32m━━━━━━━━━━━━━━━━━━━━\u001b[0m\u001b[37m\u001b[0m \u001b[1m21s\u001b[0m 15ms/step - accuracy: 0.0497 - loss: 0.0016\n",
            "Epoch 12/150\n",
            "\u001b[1m825/825\u001b[0m \u001b[32m━━━━━━━━━━━━━━━━━━━━\u001b[0m\u001b[37m\u001b[0m \u001b[1m20s\u001b[0m 15ms/step - accuracy: 0.0495 - loss: 0.0016\n",
            "Epoch 13/150\n",
            "\u001b[1m825/825\u001b[0m \u001b[32m━━━━━━━━━━━━━━━━━━━━\u001b[0m\u001b[37m\u001b[0m \u001b[1m13s\u001b[0m 16ms/step - accuracy: 0.0499 - loss: 0.0016\n",
            "Epoch 14/150\n",
            "\u001b[1m825/825\u001b[0m \u001b[32m━━━━━━━━━━━━━━━━━━━━\u001b[0m\u001b[37m\u001b[0m \u001b[1m13s\u001b[0m 15ms/step - accuracy: 0.0509 - loss: 0.0016\n",
            "Epoch 15/150\n",
            "\u001b[1m825/825\u001b[0m \u001b[32m━━━━━━━━━━━━━━━━━━━━\u001b[0m\u001b[37m\u001b[0m \u001b[1m21s\u001b[0m 16ms/step - accuracy: 0.0486 - loss: 0.0016\n",
            "Epoch 16/150\n",
            "\u001b[1m825/825\u001b[0m \u001b[32m━━━━━━━━━━━━━━━━━━━━\u001b[0m\u001b[37m\u001b[0m \u001b[1m20s\u001b[0m 16ms/step - accuracy: 0.0469 - loss: 0.0016\n",
            "Epoch 17/150\n",
            "\u001b[1m825/825\u001b[0m \u001b[32m━━━━━━━━━━━━━━━━━━━━\u001b[0m\u001b[37m\u001b[0m \u001b[1m20s\u001b[0m 15ms/step - accuracy: 0.0546 - loss: 0.0016\n",
            "Epoch 18/150\n",
            "\u001b[1m825/825\u001b[0m \u001b[32m━━━━━━━━━━━━━━━━━━━━\u001b[0m\u001b[37m\u001b[0m \u001b[1m20s\u001b[0m 15ms/step - accuracy: 0.0604 - loss: 0.0015\n",
            "Epoch 19/150\n",
            "\u001b[1m825/825\u001b[0m \u001b[32m━━━━━━━━━━━━━━━━━━━━\u001b[0m\u001b[37m\u001b[0m \u001b[1m21s\u001b[0m 15ms/step - accuracy: 0.0675 - loss: 0.0015\n",
            "Epoch 20/150\n",
            "\u001b[1m825/825\u001b[0m \u001b[32m━━━━━━━━━━━━━━━━━━━━\u001b[0m\u001b[37m\u001b[0m \u001b[1m20s\u001b[0m 15ms/step - accuracy: 0.0732 - loss: 0.0015\n",
            "Epoch 21/150\n",
            "\u001b[1m825/825\u001b[0m \u001b[32m━━━━━━━━━━━━━━━━━━━━\u001b[0m\u001b[37m\u001b[0m \u001b[1m13s\u001b[0m 15ms/step - accuracy: 0.0765 - loss: 0.0015\n",
            "Epoch 22/150\n",
            "\u001b[1m825/825\u001b[0m \u001b[32m━━━━━━━━━━━━━━━━━━━━\u001b[0m\u001b[37m\u001b[0m \u001b[1m21s\u001b[0m 15ms/step - accuracy: 0.0927 - loss: 0.0015\n",
            "Epoch 23/150\n",
            "\u001b[1m825/825\u001b[0m \u001b[32m━━━━━━━━━━━━━━━━━━━━\u001b[0m\u001b[37m\u001b[0m \u001b[1m13s\u001b[0m 15ms/step - accuracy: 0.0958 - loss: 0.0014\n",
            "Epoch 24/150\n",
            "\u001b[1m825/825\u001b[0m \u001b[32m━━━━━━━━━━━━━━━━━━━━\u001b[0m\u001b[37m\u001b[0m \u001b[1m21s\u001b[0m 16ms/step - accuracy: 0.0999 - loss: 0.0014\n",
            "Epoch 25/150\n",
            "\u001b[1m825/825\u001b[0m \u001b[32m━━━━━━━━━━━━━━━━━━━━\u001b[0m\u001b[37m\u001b[0m \u001b[1m20s\u001b[0m 16ms/step - accuracy: 0.1122 - loss: 0.0014\n",
            "Epoch 26/150\n",
            "\u001b[1m825/825\u001b[0m \u001b[32m━━━━━━━━━━━━━━━━━━━━\u001b[0m\u001b[37m\u001b[0m \u001b[1m21s\u001b[0m 16ms/step - accuracy: 0.1178 - loss: 0.0014\n",
            "Epoch 27/150\n",
            "\u001b[1m825/825\u001b[0m \u001b[32m━━━━━━━━━━━━━━━━━━━━\u001b[0m\u001b[37m\u001b[0m \u001b[1m13s\u001b[0m 16ms/step - accuracy: 0.1222 - loss: 0.0013\n",
            "Epoch 28/150\n",
            "\u001b[1m825/825\u001b[0m \u001b[32m━━━━━━━━━━━━━━━━━━━━\u001b[0m\u001b[37m\u001b[0m \u001b[1m20s\u001b[0m 15ms/step - accuracy: 0.1309 - loss: 0.0013\n",
            "Epoch 29/150\n",
            "\u001b[1m825/825\u001b[0m \u001b[32m━━━━━━━━━━━━━━━━━━━━\u001b[0m\u001b[37m\u001b[0m \u001b[1m13s\u001b[0m 15ms/step - accuracy: 0.1350 - loss: 0.0013\n",
            "Epoch 30/150\n",
            "\u001b[1m825/825\u001b[0m \u001b[32m━━━━━━━━━━━━━━━━━━━━\u001b[0m\u001b[37m\u001b[0m \u001b[1m21s\u001b[0m 15ms/step - accuracy: 0.1410 - loss: 0.0013\n",
            "Epoch 31/150\n",
            "\u001b[1m825/825\u001b[0m \u001b[32m━━━━━━━━━━━━━━━━━━━━\u001b[0m\u001b[37m\u001b[0m \u001b[1m21s\u001b[0m 16ms/step - accuracy: 0.1443 - loss: 0.0013\n",
            "Epoch 32/150\n",
            "\u001b[1m825/825\u001b[0m \u001b[32m━━━━━━━━━━━━━━━━━━━━\u001b[0m\u001b[37m\u001b[0m \u001b[1m20s\u001b[0m 15ms/step - accuracy: 0.1549 - loss: 0.0012\n",
            "Epoch 33/150\n",
            "\u001b[1m825/825\u001b[0m \u001b[32m━━━━━━━━━━━━━━━━━━━━\u001b[0m\u001b[37m\u001b[0m \u001b[1m20s\u001b[0m 15ms/step - accuracy: 0.1595 - loss: 0.0012\n",
            "Epoch 34/150\n",
            "\u001b[1m825/825\u001b[0m \u001b[32m━━━━━━━━━━━━━━━━━━━━\u001b[0m\u001b[37m\u001b[0m \u001b[1m21s\u001b[0m 15ms/step - accuracy: 0.1699 - loss: 0.0012\n",
            "Epoch 35/150\n",
            "\u001b[1m825/825\u001b[0m \u001b[32m━━━━━━━━━━━━━━━━━━━━\u001b[0m\u001b[37m\u001b[0m \u001b[1m21s\u001b[0m 16ms/step - accuracy: 0.1736 - loss: 0.0012\n",
            "Epoch 36/150\n",
            "\u001b[1m825/825\u001b[0m \u001b[32m━━━━━━━━━━━━━━━━━━━━\u001b[0m\u001b[37m\u001b[0m \u001b[1m13s\u001b[0m 16ms/step - accuracy: 0.1846 - loss: 0.0011\n",
            "Epoch 37/150\n",
            "\u001b[1m825/825\u001b[0m \u001b[32m━━━━━━━━━━━━━━━━━━━━\u001b[0m\u001b[37m\u001b[0m \u001b[1m20s\u001b[0m 15ms/step - accuracy: 0.1881 - loss: 0.0011\n",
            "Epoch 38/150\n",
            "\u001b[1m825/825\u001b[0m \u001b[32m━━━━━━━━━━━━━━━━━━━━\u001b[0m\u001b[37m\u001b[0m \u001b[1m13s\u001b[0m 15ms/step - accuracy: 0.1949 - loss: 0.0011\n",
            "Epoch 39/150\n",
            "\u001b[1m825/825\u001b[0m \u001b[32m━━━━━━━━━━━━━━━━━━━━\u001b[0m\u001b[37m\u001b[0m \u001b[1m21s\u001b[0m 15ms/step - accuracy: 0.1974 - loss: 0.0011\n",
            "Epoch 40/150\n",
            "\u001b[1m825/825\u001b[0m \u001b[32m━━━━━━━━━━━━━━━━━━━━\u001b[0m\u001b[37m\u001b[0m \u001b[1m20s\u001b[0m 15ms/step - accuracy: 0.2099 - loss: 0.0011\n",
            "Epoch 41/150\n",
            "\u001b[1m825/825\u001b[0m \u001b[32m━━━━━━━━━━━━━━━━━━━━\u001b[0m\u001b[37m\u001b[0m \u001b[1m20s\u001b[0m 15ms/step - accuracy: 0.2106 - loss: 0.0011\n",
            "Epoch 42/150\n",
            "\u001b[1m825/825\u001b[0m \u001b[32m━━━━━━━━━━━━━━━━━━━━\u001b[0m\u001b[37m\u001b[0m \u001b[1m13s\u001b[0m 15ms/step - accuracy: 0.2206 - loss: 0.0010\n",
            "Epoch 43/150\n",
            "\u001b[1m825/825\u001b[0m \u001b[32m━━━━━━━━━━━━━━━━━━━━\u001b[0m\u001b[37m\u001b[0m \u001b[1m21s\u001b[0m 16ms/step - accuracy: 0.2252 - loss: 0.0010\n",
            "Epoch 44/150\n",
            "\u001b[1m825/825\u001b[0m \u001b[32m━━━━━━━━━━━━━━━━━━━━\u001b[0m\u001b[37m\u001b[0m \u001b[1m21s\u001b[0m 16ms/step - accuracy: 0.2339 - loss: 0.0010\n",
            "Epoch 45/150\n",
            "\u001b[1m825/825\u001b[0m \u001b[32m━━━━━━━━━━━━━━━━━━━━\u001b[0m\u001b[37m\u001b[0m \u001b[1m20s\u001b[0m 15ms/step - accuracy: 0.2397 - loss: 9.9115e-04\n",
            "Epoch 46/150\n",
            "\u001b[1m825/825\u001b[0m \u001b[32m━━━━━━━━━━━━━━━━━━━━\u001b[0m\u001b[37m\u001b[0m \u001b[1m20s\u001b[0m 15ms/step - accuracy: 0.2481 - loss: 9.7524e-04\n",
            "Epoch 47/150\n",
            "\u001b[1m825/825\u001b[0m \u001b[32m━━━━━━━━━━━━━━━━━━━━\u001b[0m\u001b[37m\u001b[0m \u001b[1m21s\u001b[0m 16ms/step - accuracy: 0.2587 - loss: 9.5463e-04\n",
            "Epoch 48/150\n",
            "\u001b[1m825/825\u001b[0m \u001b[32m━━━━━━━━━━━━━━━━━━━━\u001b[0m\u001b[37m\u001b[0m \u001b[1m13s\u001b[0m 16ms/step - accuracy: 0.2651 - loss: 9.3944e-04\n",
            "Epoch 49/150\n",
            "\u001b[1m825/825\u001b[0m \u001b[32m━━━━━━━━━━━━━━━━━━━━\u001b[0m\u001b[37m\u001b[0m \u001b[1m13s\u001b[0m 16ms/step - accuracy: 0.2712 - loss: 9.2048e-04\n",
            "Epoch 50/150\n",
            "\u001b[1m825/825\u001b[0m \u001b[32m━━━━━━━━━━━━━━━━━━━━\u001b[0m\u001b[37m\u001b[0m \u001b[1m13s\u001b[0m 16ms/step - accuracy: 0.2880 - loss: 9.0354e-04\n",
            "Epoch 51/150\n",
            "\u001b[1m825/825\u001b[0m \u001b[32m━━━━━━━━━━━━━━━━━━━━\u001b[0m\u001b[37m\u001b[0m \u001b[1m20s\u001b[0m 15ms/step - accuracy: 0.2925 - loss: 8.8914e-04\n",
            "Epoch 52/150\n",
            "\u001b[1m825/825\u001b[0m \u001b[32m━━━━━━━━━━━━━━━━━━━━\u001b[0m\u001b[37m\u001b[0m \u001b[1m21s\u001b[0m 16ms/step - accuracy: 0.3091 - loss: 8.6732e-04\n",
            "Epoch 53/150\n",
            "\u001b[1m825/825\u001b[0m \u001b[32m━━━━━━━━━━━━━━━━━━━━\u001b[0m\u001b[37m\u001b[0m \u001b[1m20s\u001b[0m 16ms/step - accuracy: 0.3144 - loss: 8.5767e-04\n",
            "Epoch 54/150\n",
            "\u001b[1m825/825\u001b[0m \u001b[32m━━━━━━━━━━━━━━━━━━━━\u001b[0m\u001b[37m\u001b[0m \u001b[1m21s\u001b[0m 16ms/step - accuracy: 0.3290 - loss: 8.4156e-04\n",
            "Epoch 55/150\n",
            "\u001b[1m825/825\u001b[0m \u001b[32m━━━━━━━━━━━━━━━━━━━━\u001b[0m\u001b[37m\u001b[0m \u001b[1m20s\u001b[0m 16ms/step - accuracy: 0.3452 - loss: 8.2253e-04\n",
            "Epoch 56/150\n",
            "\u001b[1m825/825\u001b[0m \u001b[32m━━━━━━━━━━━━━━━━━━━━\u001b[0m\u001b[37m\u001b[0m \u001b[1m13s\u001b[0m 16ms/step - accuracy: 0.3586 - loss: 8.0324e-04\n",
            "Epoch 57/150\n",
            "\u001b[1m825/825\u001b[0m \u001b[32m━━━━━━━━━━━━━━━━━━━━\u001b[0m\u001b[37m\u001b[0m \u001b[1m21s\u001b[0m 16ms/step - accuracy: 0.3762 - loss: 7.8796e-04\n",
            "Epoch 58/150\n",
            "\u001b[1m825/825\u001b[0m \u001b[32m━━━━━━━━━━━━━━━━━━━━\u001b[0m\u001b[37m\u001b[0m \u001b[1m21s\u001b[0m 16ms/step - accuracy: 0.3788 - loss: 7.7631e-04\n",
            "Epoch 59/150\n",
            "\u001b[1m825/825\u001b[0m \u001b[32m━━━━━━━━━━━━━━━━━━━━\u001b[0m\u001b[37m\u001b[0m \u001b[1m20s\u001b[0m 16ms/step - accuracy: 0.3954 - loss: 7.5980e-04\n",
            "Epoch 60/150\n",
            "\u001b[1m825/825\u001b[0m \u001b[32m━━━━━━━━━━━━━━━━━━━━\u001b[0m\u001b[37m\u001b[0m \u001b[1m13s\u001b[0m 16ms/step - accuracy: 0.4091 - loss: 7.4315e-04\n",
            "Epoch 61/150\n",
            "\u001b[1m825/825\u001b[0m \u001b[32m━━━━━━━━━━━━━━━━━━━━\u001b[0m\u001b[37m\u001b[0m \u001b[1m21s\u001b[0m 16ms/step - accuracy: 0.4213 - loss: 7.2812e-04\n",
            "Epoch 62/150\n",
            "\u001b[1m825/825\u001b[0m \u001b[32m━━━━━━━━━━━━━━━━━━━━\u001b[0m\u001b[37m\u001b[0m \u001b[1m20s\u001b[0m 16ms/step - accuracy: 0.4352 - loss: 7.1087e-04\n",
            "Epoch 63/150\n",
            "\u001b[1m825/825\u001b[0m \u001b[32m━━━━━━━━━━━━━━━━━━━━\u001b[0m\u001b[37m\u001b[0m \u001b[1m13s\u001b[0m 16ms/step - accuracy: 0.4486 - loss: 6.9864e-04\n",
            "Epoch 64/150\n",
            "\u001b[1m825/825\u001b[0m \u001b[32m━━━━━━━━━━━━━━━━━━━━\u001b[0m\u001b[37m\u001b[0m \u001b[1m21s\u001b[0m 16ms/step - accuracy: 0.4651 - loss: 6.8193e-04\n",
            "Epoch 65/150\n",
            "\u001b[1m825/825\u001b[0m \u001b[32m━━━━━━━━━━━━━━━━━━━━\u001b[0m\u001b[37m\u001b[0m \u001b[1m20s\u001b[0m 16ms/step - accuracy: 0.4765 - loss: 6.6915e-04\n",
            "Epoch 66/150\n",
            "\u001b[1m825/825\u001b[0m \u001b[32m━━━━━━━━━━━━━━━━━━━━\u001b[0m\u001b[37m\u001b[0m \u001b[1m21s\u001b[0m 16ms/step - accuracy: 0.4918 - loss: 6.5024e-04\n",
            "Epoch 67/150\n",
            "\u001b[1m825/825\u001b[0m \u001b[32m━━━━━━━━━━━━━━━━━━━━\u001b[0m\u001b[37m\u001b[0m \u001b[1m13s\u001b[0m 16ms/step - accuracy: 0.5052 - loss: 6.3916e-04\n",
            "Epoch 68/150\n",
            "\u001b[1m825/825\u001b[0m \u001b[32m━━━━━━━━━━━━━━━━━━━━\u001b[0m\u001b[37m\u001b[0m \u001b[1m13s\u001b[0m 16ms/step - accuracy: 0.5114 - loss: 6.3121e-04\n",
            "Epoch 69/150\n",
            "\u001b[1m825/825\u001b[0m \u001b[32m━━━━━━━━━━━━━━━━━━━━\u001b[0m\u001b[37m\u001b[0m \u001b[1m13s\u001b[0m 16ms/step - accuracy: 0.5264 - loss: 6.1634e-04\n",
            "Epoch 70/150\n",
            "\u001b[1m825/825\u001b[0m \u001b[32m━━━━━━━━━━━━━━━━━━━━\u001b[0m\u001b[37m\u001b[0m \u001b[1m13s\u001b[0m 15ms/step - accuracy: 0.5414 - loss: 6.0416e-04\n",
            "Epoch 71/150\n",
            "\u001b[1m825/825\u001b[0m \u001b[32m━━━━━━━━━━━━━━━━━━━━\u001b[0m\u001b[37m\u001b[0m \u001b[1m13s\u001b[0m 15ms/step - accuracy: 0.5482 - loss: 5.9080e-04\n",
            "Epoch 72/150\n",
            "\u001b[1m825/825\u001b[0m \u001b[32m━━━━━━━━━━━━━━━━━━━━\u001b[0m\u001b[37m\u001b[0m \u001b[1m21s\u001b[0m 16ms/step - accuracy: 0.5611 - loss: 5.7783e-04\n",
            "Epoch 73/150\n",
            "\u001b[1m825/825\u001b[0m \u001b[32m━━━━━━━━━━━━━━━━━━━━\u001b[0m\u001b[37m\u001b[0m \u001b[1m20s\u001b[0m 16ms/step - accuracy: 0.5725 - loss: 5.6920e-04\n",
            "Epoch 74/150\n",
            "\u001b[1m825/825\u001b[0m \u001b[32m━━━━━━━━━━━━━━━━━━━━\u001b[0m\u001b[37m\u001b[0m \u001b[1m13s\u001b[0m 16ms/step - accuracy: 0.5812 - loss: 5.5577e-04\n",
            "Epoch 75/150\n",
            "\u001b[1m825/825\u001b[0m \u001b[32m━━━━━━━━━━━━━━━━━━━━\u001b[0m\u001b[37m\u001b[0m \u001b[1m13s\u001b[0m 16ms/step - accuracy: 0.5973 - loss: 5.4305e-04\n",
            "Epoch 76/150\n",
            "\u001b[1m825/825\u001b[0m \u001b[32m━━━━━━━━━━━━━━━━━━━━\u001b[0m\u001b[37m\u001b[0m \u001b[1m20s\u001b[0m 15ms/step - accuracy: 0.6121 - loss: 5.2852e-04\n",
            "Epoch 77/150\n",
            "\u001b[1m825/825\u001b[0m \u001b[32m━━━━━━━━━━━━━━━━━━━━\u001b[0m\u001b[37m\u001b[0m \u001b[1m13s\u001b[0m 15ms/step - accuracy: 0.6188 - loss: 5.2310e-04\n",
            "Epoch 78/150\n",
            "\u001b[1m825/825\u001b[0m \u001b[32m━━━━━━━━━━━━━━━━━━━━\u001b[0m\u001b[37m\u001b[0m \u001b[1m13s\u001b[0m 15ms/step - accuracy: 0.6216 - loss: 5.1417e-04\n",
            "Epoch 79/150\n",
            "\u001b[1m825/825\u001b[0m \u001b[32m━━━━━━━━━━━━━━━━━━━━\u001b[0m\u001b[37m\u001b[0m \u001b[1m21s\u001b[0m 16ms/step - accuracy: 0.6356 - loss: 5.0243e-04\n",
            "Epoch 80/150\n",
            "\u001b[1m825/825\u001b[0m \u001b[32m━━━━━━━━━━━━━━━━━━━━\u001b[0m\u001b[37m\u001b[0m \u001b[1m20s\u001b[0m 15ms/step - accuracy: 0.6487 - loss: 4.9280e-04\n",
            "Epoch 81/150\n",
            "\u001b[1m825/825\u001b[0m \u001b[32m━━━━━━━━━━━━━━━━━━━━\u001b[0m\u001b[37m\u001b[0m \u001b[1m13s\u001b[0m 15ms/step - accuracy: 0.6562 - loss: 4.7995e-04\n",
            "Epoch 82/150\n",
            "\u001b[1m825/825\u001b[0m \u001b[32m━━━━━━━━━━━━━━━━━━━━\u001b[0m\u001b[37m\u001b[0m \u001b[1m21s\u001b[0m 16ms/step - accuracy: 0.6621 - loss: 4.7626e-04\n",
            "Epoch 83/150\n",
            "\u001b[1m825/825\u001b[0m \u001b[32m━━━━━━━━━━━━━━━━━━━━\u001b[0m\u001b[37m\u001b[0m \u001b[1m21s\u001b[0m 16ms/step - accuracy: 0.6763 - loss: 4.6195e-04\n",
            "Epoch 84/150\n",
            "\u001b[1m825/825\u001b[0m \u001b[32m━━━━━━━━━━━━━━━━━━━━\u001b[0m\u001b[37m\u001b[0m \u001b[1m13s\u001b[0m 16ms/step - accuracy: 0.6790 - loss: 4.5367e-04\n",
            "Epoch 85/150\n",
            "\u001b[1m825/825\u001b[0m \u001b[32m━━━━━━━━━━━━━━━━━━━━\u001b[0m\u001b[37m\u001b[0m \u001b[1m20s\u001b[0m 16ms/step - accuracy: 0.6901 - loss: 4.4807e-04\n",
            "Epoch 86/150\n",
            "\u001b[1m825/825\u001b[0m \u001b[32m━━━━━━━━━━━━━━━━━━━━\u001b[0m\u001b[37m\u001b[0m \u001b[1m13s\u001b[0m 16ms/step - accuracy: 0.6920 - loss: 4.4256e-04\n",
            "Epoch 87/150\n",
            "\u001b[1m825/825\u001b[0m \u001b[32m━━━━━━━━━━━━━━━━━━━━\u001b[0m\u001b[37m\u001b[0m \u001b[1m20s\u001b[0m 16ms/step - accuracy: 0.6998 - loss: 4.3512e-04\n",
            "Epoch 88/150\n",
            "\u001b[1m825/825\u001b[0m \u001b[32m━━━━━━━━━━━━━━━━━━━━\u001b[0m\u001b[37m\u001b[0m \u001b[1m13s\u001b[0m 16ms/step - accuracy: 0.7095 - loss: 4.2239e-04\n",
            "Epoch 89/150\n",
            "\u001b[1m825/825\u001b[0m \u001b[32m━━━━━━━━━━━━━━━━━━━━\u001b[0m\u001b[37m\u001b[0m \u001b[1m20s\u001b[0m 16ms/step - accuracy: 0.7110 - loss: 4.1924e-04\n",
            "Epoch 90/150\n",
            "\u001b[1m825/825\u001b[0m \u001b[32m━━━━━━━━━━━━━━━━━━━━\u001b[0m\u001b[37m\u001b[0m \u001b[1m13s\u001b[0m 16ms/step - accuracy: 0.7192 - loss: 4.0883e-04\n",
            "Epoch 91/150\n",
            "\u001b[1m825/825\u001b[0m \u001b[32m━━━━━━━━━━━━━━━━━━━━\u001b[0m\u001b[37m\u001b[0m \u001b[1m13s\u001b[0m 16ms/step - accuracy: 0.7264 - loss: 4.0260e-04\n",
            "Epoch 92/150\n",
            "\u001b[1m825/825\u001b[0m \u001b[32m━━━━━━━━━━━━━━━━━━━━\u001b[0m\u001b[37m\u001b[0m \u001b[1m20s\u001b[0m 16ms/step - accuracy: 0.7335 - loss: 3.9572e-04\n",
            "Epoch 93/150\n",
            "\u001b[1m825/825\u001b[0m \u001b[32m━━━━━━━━━━━━━━━━━━━━\u001b[0m\u001b[37m\u001b[0m \u001b[1m21s\u001b[0m 16ms/step - accuracy: 0.7381 - loss: 3.8976e-04\n",
            "Epoch 94/150\n",
            "\u001b[1m825/825\u001b[0m \u001b[32m━━━━━━━━━━━━━━━━━━━━\u001b[0m\u001b[37m\u001b[0m \u001b[1m13s\u001b[0m 16ms/step - accuracy: 0.7464 - loss: 3.8033e-04\n",
            "Epoch 95/150\n",
            "\u001b[1m825/825\u001b[0m \u001b[32m━━━━━━━━━━━━━━━━━━━━\u001b[0m\u001b[37m\u001b[0m \u001b[1m13s\u001b[0m 16ms/step - accuracy: 0.7515 - loss: 3.7504e-04\n",
            "Epoch 96/150\n",
            "\u001b[1m825/825\u001b[0m \u001b[32m━━━━━━━━━━━━━━━━━━━━\u001b[0m\u001b[37m\u001b[0m \u001b[1m21s\u001b[0m 16ms/step - accuracy: 0.7611 - loss: 3.6597e-04\n",
            "Epoch 97/150\n",
            "\u001b[1m825/825\u001b[0m \u001b[32m━━━━━━━━━━━━━━━━━━━━\u001b[0m\u001b[37m\u001b[0m \u001b[1m13s\u001b[0m 16ms/step - accuracy: 0.7645 - loss: 3.6091e-04\n",
            "Epoch 98/150\n",
            "\u001b[1m825/825\u001b[0m \u001b[32m━━━━━━━━━━━━━━━━━━━━\u001b[0m\u001b[37m\u001b[0m \u001b[1m20s\u001b[0m 16ms/step - accuracy: 0.7698 - loss: 3.5282e-04\n",
            "Epoch 99/150\n",
            "\u001b[1m825/825\u001b[0m \u001b[32m━━━━━━━━━━━━━━━━━━━━\u001b[0m\u001b[37m\u001b[0m \u001b[1m20s\u001b[0m 16ms/step - accuracy: 0.7765 - loss: 3.4869e-04\n",
            "Epoch 100/150\n",
            "\u001b[1m825/825\u001b[0m \u001b[32m━━━━━━━━━━━━━━━━━━━━\u001b[0m\u001b[37m\u001b[0m \u001b[1m20s\u001b[0m 16ms/step - accuracy: 0.7779 - loss: 3.4287e-04\n",
            "Epoch 101/150\n",
            "\u001b[1m825/825\u001b[0m \u001b[32m━━━━━━━━━━━━━━━━━━━━\u001b[0m\u001b[37m\u001b[0m \u001b[1m20s\u001b[0m 16ms/step - accuracy: 0.7801 - loss: 3.3863e-04\n",
            "Epoch 102/150\n",
            "\u001b[1m825/825\u001b[0m \u001b[32m━━━━━━━━━━━━━━━━━━━━\u001b[0m\u001b[37m\u001b[0m \u001b[1m20s\u001b[0m 16ms/step - accuracy: 0.7879 - loss: 3.3410e-04\n",
            "Epoch 103/150\n",
            "\u001b[1m825/825\u001b[0m \u001b[32m━━━━━━━━━━━━━━━━━━━━\u001b[0m\u001b[37m\u001b[0m \u001b[1m13s\u001b[0m 15ms/step - accuracy: 0.7927 - loss: 3.2522e-04\n",
            "Epoch 104/150\n",
            "\u001b[1m825/825\u001b[0m \u001b[32m━━━━━━━━━━━━━━━━━━━━\u001b[0m\u001b[37m\u001b[0m \u001b[1m21s\u001b[0m 16ms/step - accuracy: 0.7975 - loss: 3.1669e-04\n",
            "Epoch 105/150\n",
            "\u001b[1m825/825\u001b[0m \u001b[32m━━━━━━━━━━━━━━━━━━━━\u001b[0m\u001b[37m\u001b[0m \u001b[1m20s\u001b[0m 16ms/step - accuracy: 0.8044 - loss: 3.1327e-04\n",
            "Epoch 106/150\n",
            "\u001b[1m825/825\u001b[0m \u001b[32m━━━━━━━━━━━━━━━━━━━━\u001b[0m\u001b[37m\u001b[0m \u001b[1m21s\u001b[0m 16ms/step - accuracy: 0.8040 - loss: 3.1111e-04\n",
            "Epoch 107/150\n",
            "\u001b[1m825/825\u001b[0m \u001b[32m━━━━━━━━━━━━━━━━━━━━\u001b[0m\u001b[37m\u001b[0m \u001b[1m13s\u001b[0m 15ms/step - accuracy: 0.8092 - loss: 3.0442e-04\n",
            "Epoch 108/150\n",
            "\u001b[1m825/825\u001b[0m \u001b[32m━━━━━━━━━━━━━━━━━━━━\u001b[0m\u001b[37m\u001b[0m \u001b[1m21s\u001b[0m 16ms/step - accuracy: 0.8101 - loss: 3.0064e-04\n",
            "Epoch 109/150\n",
            "\u001b[1m825/825\u001b[0m \u001b[32m━━━━━━━━━━━━━━━━━━━━\u001b[0m\u001b[37m\u001b[0m \u001b[1m13s\u001b[0m 16ms/step - accuracy: 0.8122 - loss: 2.9658e-04\n",
            "Epoch 110/150\n",
            "\u001b[1m825/825\u001b[0m \u001b[32m━━━━━━━━━━━━━━━━━━━━\u001b[0m\u001b[37m\u001b[0m \u001b[1m20s\u001b[0m 16ms/step - accuracy: 0.8180 - loss: 2.8974e-04\n",
            "Epoch 111/150\n",
            "\u001b[1m825/825\u001b[0m \u001b[32m━━━━━━━━━━━━━━━━━━━━\u001b[0m\u001b[37m\u001b[0m \u001b[1m20s\u001b[0m 16ms/step - accuracy: 0.8231 - loss: 2.8484e-04\n",
            "Epoch 112/150\n",
            "\u001b[1m825/825\u001b[0m \u001b[32m━━━━━━━━━━━━━━━━━━━━\u001b[0m\u001b[37m\u001b[0m \u001b[1m20s\u001b[0m 16ms/step - accuracy: 0.8273 - loss: 2.8050e-04\n",
            "Epoch 113/150\n",
            "\u001b[1m825/825\u001b[0m \u001b[32m━━━━━━━━━━━━━━━━━━━━\u001b[0m\u001b[37m\u001b[0m \u001b[1m21s\u001b[0m 16ms/step - accuracy: 0.8313 - loss: 2.7430e-04\n",
            "Epoch 114/150\n",
            "\u001b[1m825/825\u001b[0m \u001b[32m━━━━━━━━━━━━━━━━━━━━\u001b[0m\u001b[37m\u001b[0m \u001b[1m13s\u001b[0m 16ms/step - accuracy: 0.8355 - loss: 2.7141e-04\n",
            "Epoch 115/150\n",
            "\u001b[1m825/825\u001b[0m \u001b[32m━━━━━━━━━━━━━━━━━━━━\u001b[0m\u001b[37m\u001b[0m \u001b[1m13s\u001b[0m 16ms/step - accuracy: 0.8357 - loss: 2.7081e-04\n",
            "Epoch 116/150\n",
            "\u001b[1m825/825\u001b[0m \u001b[32m━━━━━━━━━━━━━━━━━━━━\u001b[0m\u001b[37m\u001b[0m \u001b[1m13s\u001b[0m 15ms/step - accuracy: 0.8328 - loss: 2.6724e-04\n",
            "Epoch 117/150\n",
            "\u001b[1m825/825\u001b[0m \u001b[32m━━━━━━━━━━━━━━━━━━━━\u001b[0m\u001b[37m\u001b[0m \u001b[1m21s\u001b[0m 16ms/step - accuracy: 0.8420 - loss: 2.6061e-04\n",
            "Epoch 118/150\n",
            "\u001b[1m825/825\u001b[0m \u001b[32m━━━━━━━━━━━━━━━━━━━━\u001b[0m\u001b[37m\u001b[0m \u001b[1m20s\u001b[0m 16ms/step - accuracy: 0.8454 - loss: 2.5428e-04\n",
            "Epoch 119/150\n",
            "\u001b[1m825/825\u001b[0m \u001b[32m━━━━━━━━━━━━━━━━━━━━\u001b[0m\u001b[37m\u001b[0m \u001b[1m21s\u001b[0m 16ms/step - accuracy: 0.8490 - loss: 2.5138e-04\n",
            "Epoch 120/150\n",
            "\u001b[1m825/825\u001b[0m \u001b[32m━━━━━━━━━━━━━━━━━━━━\u001b[0m\u001b[37m\u001b[0m \u001b[1m13s\u001b[0m 15ms/step - accuracy: 0.8536 - loss: 2.4490e-04\n",
            "Epoch 121/150\n",
            "\u001b[1m825/825\u001b[0m \u001b[32m━━━━━━━━━━━━━━━━━━━━\u001b[0m\u001b[37m\u001b[0m \u001b[1m21s\u001b[0m 16ms/step - accuracy: 0.8513 - loss: 2.4515e-04\n",
            "Epoch 122/150\n",
            "\u001b[1m825/825\u001b[0m \u001b[32m━━━━━━━━━━━━━━━━━━━━\u001b[0m\u001b[37m\u001b[0m \u001b[1m21s\u001b[0m 16ms/step - accuracy: 0.8542 - loss: 2.4003e-04\n",
            "Epoch 123/150\n",
            "\u001b[1m825/825\u001b[0m \u001b[32m━━━━━━━━━━━━━━━━━━━━\u001b[0m\u001b[37m\u001b[0m \u001b[1m20s\u001b[0m 16ms/step - accuracy: 0.8582 - loss: 2.3687e-04\n",
            "Epoch 124/150\n",
            "\u001b[1m825/825\u001b[0m \u001b[32m━━━━━━━━━━━━━━━━━━━━\u001b[0m\u001b[37m\u001b[0m \u001b[1m13s\u001b[0m 15ms/step - accuracy: 0.8611 - loss: 2.3508e-04\n",
            "Epoch 125/150\n",
            "\u001b[1m825/825\u001b[0m \u001b[32m━━━━━━━━━━━━━━━━━━━━\u001b[0m\u001b[37m\u001b[0m \u001b[1m21s\u001b[0m 16ms/step - accuracy: 0.8668 - loss: 2.2821e-04\n",
            "Epoch 126/150\n",
            "\u001b[1m825/825\u001b[0m \u001b[32m━━━━━━━━━━━━━━━━━━━━\u001b[0m\u001b[37m\u001b[0m \u001b[1m21s\u001b[0m 16ms/step - accuracy: 0.8655 - loss: 2.2605e-04\n",
            "Epoch 127/150\n",
            "\u001b[1m825/825\u001b[0m \u001b[32m━━━━━━━━━━━━━━━━━━━━\u001b[0m\u001b[37m\u001b[0m \u001b[1m13s\u001b[0m 15ms/step - accuracy: 0.8689 - loss: 2.2231e-04\n",
            "Epoch 128/150\n",
            "\u001b[1m825/825\u001b[0m \u001b[32m━━━━━━━━━━━━━━━━━━━━\u001b[0m\u001b[37m\u001b[0m \u001b[1m13s\u001b[0m 16ms/step - accuracy: 0.8675 - loss: 2.1997e-04\n",
            "Epoch 129/150\n",
            "\u001b[1m825/825\u001b[0m \u001b[32m━━━━━━━━━━━━━━━━━━━━\u001b[0m\u001b[37m\u001b[0m \u001b[1m21s\u001b[0m 16ms/step - accuracy: 0.8688 - loss: 2.1978e-04\n",
            "Epoch 130/150\n",
            "\u001b[1m825/825\u001b[0m \u001b[32m━━━━━━━━━━━━━━━━━━━━\u001b[0m\u001b[37m\u001b[0m \u001b[1m20s\u001b[0m 16ms/step - accuracy: 0.8753 - loss: 2.1391e-04\n",
            "Epoch 131/150\n",
            "\u001b[1m825/825\u001b[0m \u001b[32m━━━━━━━━━━━━━━━━━━━━\u001b[0m\u001b[37m\u001b[0m \u001b[1m13s\u001b[0m 16ms/step - accuracy: 0.8750 - loss: 2.1371e-04\n",
            "Epoch 132/150\n",
            "\u001b[1m825/825\u001b[0m \u001b[32m━━━━━━━━━━━━━━━━━━━━\u001b[0m\u001b[37m\u001b[0m \u001b[1m13s\u001b[0m 16ms/step - accuracy: 0.8780 - loss: 2.0748e-04\n",
            "Epoch 133/150\n",
            "\u001b[1m825/825\u001b[0m \u001b[32m━━━━━━━━━━━━━━━━━━━━\u001b[0m\u001b[37m\u001b[0m \u001b[1m13s\u001b[0m 16ms/step - accuracy: 0.8792 - loss: 2.0744e-04\n",
            "Epoch 134/150\n",
            "\u001b[1m825/825\u001b[0m \u001b[32m━━━━━━━━━━━━━━━━━━━━\u001b[0m\u001b[37m\u001b[0m \u001b[1m21s\u001b[0m 16ms/step - accuracy: 0.8799 - loss: 2.0487e-04\n",
            "Epoch 135/150\n",
            "\u001b[1m825/825\u001b[0m \u001b[32m━━━━━━━━━━━━━━━━━━━━\u001b[0m\u001b[37m\u001b[0m \u001b[1m13s\u001b[0m 15ms/step - accuracy: 0.8756 - loss: 2.0449e-04\n",
            "Epoch 136/150\n",
            "\u001b[1m825/825\u001b[0m \u001b[32m━━━━━━━━━━━━━━━━━━━━\u001b[0m\u001b[37m\u001b[0m \u001b[1m21s\u001b[0m 16ms/step - accuracy: 0.8809 - loss: 2.0091e-04\n",
            "Epoch 137/150\n",
            "\u001b[1m825/825\u001b[0m \u001b[32m━━━━━━━━━━━━━━━━━━━━\u001b[0m\u001b[37m\u001b[0m \u001b[1m13s\u001b[0m 15ms/step - accuracy: 0.8811 - loss: 1.9893e-04\n",
            "Epoch 138/150\n",
            "\u001b[1m825/825\u001b[0m \u001b[32m━━━━━━━━━━━━━━━━━━━━\u001b[0m\u001b[37m\u001b[0m \u001b[1m13s\u001b[0m 16ms/step - accuracy: 0.8868 - loss: 1.9421e-04\n",
            "Epoch 139/150\n",
            "\u001b[1m825/825\u001b[0m \u001b[32m━━━━━━━━━━━━━━━━━━━━\u001b[0m\u001b[37m\u001b[0m \u001b[1m21s\u001b[0m 16ms/step - accuracy: 0.8843 - loss: 1.9488e-04\n",
            "Epoch 140/150\n",
            "\u001b[1m825/825\u001b[0m \u001b[32m━━━━━━━━━━━━━━━━━━━━\u001b[0m\u001b[37m\u001b[0m \u001b[1m20s\u001b[0m 16ms/step - accuracy: 0.8833 - loss: 1.9285e-04\n",
            "Epoch 141/150\n",
            "\u001b[1m825/825\u001b[0m \u001b[32m━━━━━━━━━━━━━━━━━━━━\u001b[0m\u001b[37m\u001b[0m \u001b[1m21s\u001b[0m 16ms/step - accuracy: 0.8902 - loss: 1.8738e-04\n",
            "Epoch 142/150\n",
            "\u001b[1m825/825\u001b[0m \u001b[32m━━━━━━━━━━━━━━━━━━━━\u001b[0m\u001b[37m\u001b[0m \u001b[1m20s\u001b[0m 16ms/step - accuracy: 0.8895 - loss: 1.8634e-04\n",
            "Epoch 143/150\n",
            "\u001b[1m825/825\u001b[0m \u001b[32m━━━━━━━━━━━━━━━━━━━━\u001b[0m\u001b[37m\u001b[0m \u001b[1m13s\u001b[0m 15ms/step - accuracy: 0.8911 - loss: 1.8191e-04\n",
            "Epoch 144/150\n",
            "\u001b[1m825/825\u001b[0m \u001b[32m━━━━━━━━━━━━━━━━━━━━\u001b[0m\u001b[37m\u001b[0m \u001b[1m13s\u001b[0m 15ms/step - accuracy: 0.8903 - loss: 1.8440e-04\n",
            "Epoch 145/150\n",
            "\u001b[1m825/825\u001b[0m \u001b[32m━━━━━━━━━━━━━━━━━━━━\u001b[0m\u001b[37m\u001b[0m \u001b[1m13s\u001b[0m 15ms/step - accuracy: 0.8919 - loss: 1.8189e-04\n",
            "Epoch 146/150\n",
            "\u001b[1m825/825\u001b[0m \u001b[32m━━━━━━━━━━━━━━━━━━━━\u001b[0m\u001b[37m\u001b[0m \u001b[1m20s\u001b[0m 15ms/step - accuracy: 0.8967 - loss: 1.7529e-04\n",
            "Epoch 147/150\n",
            "\u001b[1m825/825\u001b[0m \u001b[32m━━━━━━━━━━━━━━━━━━━━\u001b[0m\u001b[37m\u001b[0m \u001b[1m20s\u001b[0m 16ms/step - accuracy: 0.8965 - loss: 1.7557e-04\n",
            "Epoch 148/150\n",
            "\u001b[1m825/825\u001b[0m \u001b[32m━━━━━━━━━━━━━━━━━━━━\u001b[0m\u001b[37m\u001b[0m \u001b[1m20s\u001b[0m 15ms/step - accuracy: 0.8992 - loss: 1.7255e-04\n",
            "Epoch 149/150\n",
            "\u001b[1m825/825\u001b[0m \u001b[32m━━━━━━━━━━━━━━━━━━━━\u001b[0m\u001b[37m\u001b[0m \u001b[1m13s\u001b[0m 15ms/step - accuracy: 0.8961 - loss: 1.7476e-04\n",
            "Epoch 150/150\n",
            "\u001b[1m825/825\u001b[0m \u001b[32m━━━━━━━━━━━━━━━━━━━━\u001b[0m\u001b[37m\u001b[0m \u001b[1m13s\u001b[0m 16ms/step - accuracy: 0.8967 - loss: 1.7150e-04\n"
          ]
        },
        {
          "output_type": "execute_result",
          "data": {
            "text/plain": [
              "<keras.src.callbacks.history.History at 0x7fc3e832b190>"
            ]
          },
          "metadata": {},
          "execution_count": 15
        }
      ]
    },
    {
      "cell_type": "markdown",
      "source": [
        " **TESTING : Next Word predictor by LSTM**"
      ],
      "metadata": {
        "id": "EZ3_YhLlfqQp"
      }
    },
    {
      "cell_type": "code",
      "source": [
        "text=\" please let me know \"\n",
        "\n",
        "\n",
        "for i in range(15):\n",
        "\n",
        "    # Tokenize the input text\n",
        "    token_text = tokenizer.texts_to_sequences([text])[0]\n",
        "\n",
        "    # Pad the tokenized text\n",
        "    padded_token_text = pad_sequences([token_text], maxlen=324, padding='pre')\n",
        "\n",
        "    # Predict the next word index\n",
        "    pos = ny.argmax(model.predict(padded_token_text))\n",
        "\n",
        "    # Retrieve the word corresponding to the predicted index\n",
        "    for word, index in tokenizer.word_index.items():\n",
        "        if index == pos:\n",
        "            # Append the predicted word to the input text\n",
        "            text = text + \" \" + word\n",
        "            print(text)\n",
        "\n",
        "\n",
        "            time.sleep(1) ##delay 1 sec"
      ],
      "metadata": {
        "colab": {
          "base_uri": "https://localhost:8080/"
        },
        "id": "a-UrRShoJG45",
        "outputId": "1912225a-6110-476b-a987-cc505e5566a7"
      },
      "execution_count": 17,
      "outputs": [
        {
          "output_type": "stream",
          "name": "stdout",
          "text": [
            "\u001b[1m1/1\u001b[0m \u001b[32m━━━━━━━━━━━━━━━━━━━━\u001b[0m\u001b[37m\u001b[0m \u001b[1m0s\u001b[0m 98ms/step\n",
            " please let me know  what\n",
            "\u001b[1m1/1\u001b[0m \u001b[32m━━━━━━━━━━━━━━━━━━━━\u001b[0m\u001b[37m\u001b[0m \u001b[1m0s\u001b[0m 37ms/step\n",
            " please let me know  what if\n",
            "\u001b[1m1/1\u001b[0m \u001b[32m━━━━━━━━━━━━━━━━━━━━\u001b[0m\u001b[37m\u001b[0m \u001b[1m0s\u001b[0m 39ms/step\n",
            " please let me know  what if you\n",
            "\u001b[1m1/1\u001b[0m \u001b[32m━━━━━━━━━━━━━━━━━━━━\u001b[0m\u001b[37m\u001b[0m \u001b[1m0s\u001b[0m 39ms/step\n",
            " please let me know  what if you let\n",
            "\u001b[1m1/1\u001b[0m \u001b[32m━━━━━━━━━━━━━━━━━━━━\u001b[0m\u001b[37m\u001b[0m \u001b[1m0s\u001b[0m 37ms/step\n",
            " please let me know  what if you let them\n",
            "\u001b[1m1/1\u001b[0m \u001b[32m━━━━━━━━━━━━━━━━━━━━\u001b[0m\u001b[37m\u001b[0m \u001b[1m0s\u001b[0m 38ms/step\n",
            " please let me know  what if you let them it\n",
            "\u001b[1m1/1\u001b[0m \u001b[32m━━━━━━━━━━━━━━━━━━━━\u001b[0m\u001b[37m\u001b[0m \u001b[1m0s\u001b[0m 36ms/step\n",
            " please let me know  what if you let them it was\n",
            "\u001b[1m1/1\u001b[0m \u001b[32m━━━━━━━━━━━━━━━━━━━━\u001b[0m\u001b[37m\u001b[0m \u001b[1m0s\u001b[0m 53ms/step\n",
            " please let me know  what if you let them it was like\n",
            "\u001b[1m1/1\u001b[0m \u001b[32m━━━━━━━━━━━━━━━━━━━━\u001b[0m\u001b[37m\u001b[0m \u001b[1m0s\u001b[0m 37ms/step\n",
            " please let me know  what if you let them it was like when\n",
            "\u001b[1m1/1\u001b[0m \u001b[32m━━━━━━━━━━━━━━━━━━━━\u001b[0m\u001b[37m\u001b[0m \u001b[1m0s\u001b[0m 49ms/step\n",
            " please let me know  what if you let them it was like when you\n",
            "\u001b[1m1/1\u001b[0m \u001b[32m━━━━━━━━━━━━━━━━━━━━\u001b[0m\u001b[37m\u001b[0m \u001b[1m0s\u001b[0m 35ms/step\n",
            " please let me know  what if you let them it was like when you can\n",
            "\u001b[1m1/1\u001b[0m \u001b[32m━━━━━━━━━━━━━━━━━━━━\u001b[0m\u001b[37m\u001b[0m \u001b[1m0s\u001b[0m 34ms/step\n",
            " please let me know  what if you let them it was like when you can tell\n",
            "\u001b[1m1/1\u001b[0m \u001b[32m━━━━━━━━━━━━━━━━━━━━\u001b[0m\u001b[37m\u001b[0m \u001b[1m0s\u001b[0m 35ms/step\n",
            " please let me know  what if you let them it was like when you can tell them\n",
            "\u001b[1m1/1\u001b[0m \u001b[32m━━━━━━━━━━━━━━━━━━━━\u001b[0m\u001b[37m\u001b[0m \u001b[1m0s\u001b[0m 37ms/step\n",
            " please let me know  what if you let them it was like when you can tell them i'm\n",
            "\u001b[1m1/1\u001b[0m \u001b[32m━━━━━━━━━━━━━━━━━━━━\u001b[0m\u001b[37m\u001b[0m \u001b[1m0s\u001b[0m 39ms/step\n",
            " please let me know  what if you let them it was like when you can tell them i'm okay\n"
          ]
        }
      ]
    },
    {
      "cell_type": "code",
      "source": [],
      "metadata": {
        "id": "0lwSf5OCg1Y4"
      },
      "execution_count": null,
      "outputs": []
    }
  ],
  "metadata": {
    "colab": {
      "provenance": [],
      "gpuType": "T4",
      "include_colab_link": true
    },
    "kernelspec": {
      "display_name": "Python 3",
      "name": "python3"
    },
    "accelerator": "GPU"
  },
  "nbformat": 4,
  "nbformat_minor": 0
}